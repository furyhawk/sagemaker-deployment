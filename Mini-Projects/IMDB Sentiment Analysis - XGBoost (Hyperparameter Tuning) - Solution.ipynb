{
 "cells": [
  {
   "cell_type": "markdown",
   "metadata": {},
   "source": [
    "# Sentiment Analysis\n",
    "\n",
    "## Using XGBoost in SageMaker\n",
    "\n",
    "_Deep Learning Nanodegree Program | Deployment_\n",
    "\n",
    "---\n",
    "\n",
    "In this example of using Amazon's SageMaker service we will construct a random tree model to predict the sentiment of a movie review. You may have seen a version of this example in a pervious lesson although it would have been done using the sklearn package. Instead, we will be using the XGBoost package as it is provided to us by Amazon.\n",
    "\n",
    "## Instructions\n",
    "\n",
    "Some template code has already been provided for you, and you will need to implement additional functionality to successfully complete this notebook. You will not need to modify the included code beyond what is requested. Sections that begin with '**TODO**' in the header indicate that you need to complete or implement some portion within them. Instructions will be provided for each section and the specifics of the implementation are marked in the code block with a `# TODO: ...` comment. Please be sure to read the instructions carefully!\n",
    "\n",
    "In addition to implementing code, there may be questions for you to answer which relate to the task and your implementation. Each section where you will answer a question is preceded by a '**Question:**' header. Carefully read each question and provide your answer below the '**Answer:**' header by editing the Markdown cell.\n",
    "\n",
    "> **Note**: Code and Markdown cells can be executed using the **Shift+Enter** keyboard shortcut. In addition, a cell can be edited by typically clicking it (double-click for Markdown cells) or by pressing **Enter** while it is highlighted."
   ]
  },
  {
   "cell_type": "code",
   "execution_count": 1,
   "metadata": {},
   "outputs": [
    {
     "name": "stdout",
     "output_type": "stream",
     "text": [
      "Requirement already satisfied: sagemaker==1.72.0 in /home/ec2-user/anaconda3/envs/python3/lib/python3.6/site-packages (1.72.0)\n",
      "Requirement already satisfied: importlib-metadata>=1.4.0 in /home/ec2-user/anaconda3/envs/python3/lib/python3.6/site-packages (from sagemaker==1.72.0) (3.7.0)\n",
      "Requirement already satisfied: packaging>=20.0 in /home/ec2-user/anaconda3/envs/python3/lib/python3.6/site-packages (from sagemaker==1.72.0) (20.9)\n",
      "Requirement already satisfied: numpy>=1.9.0 in /home/ec2-user/anaconda3/envs/python3/lib/python3.6/site-packages (from sagemaker==1.72.0) (1.19.5)\n",
      "Requirement already satisfied: boto3>=1.14.12 in /home/ec2-user/anaconda3/envs/python3/lib/python3.6/site-packages (from sagemaker==1.72.0) (1.18.39)\n",
      "Requirement already satisfied: smdebug-rulesconfig==0.1.4 in /home/ec2-user/anaconda3/envs/python3/lib/python3.6/site-packages (from sagemaker==1.72.0) (0.1.4)\n",
      "Requirement already satisfied: protobuf>=3.1 in /home/ec2-user/anaconda3/envs/python3/lib/python3.6/site-packages (from sagemaker==1.72.0) (3.15.2)\n",
      "Requirement already satisfied: scipy>=0.19.0 in /home/ec2-user/anaconda3/envs/python3/lib/python3.6/site-packages (from sagemaker==1.72.0) (1.5.3)\n",
      "Requirement already satisfied: protobuf3-to-dict>=0.1.5 in /home/ec2-user/anaconda3/envs/python3/lib/python3.6/site-packages (from sagemaker==1.72.0) (0.1.5)\n",
      "Requirement already satisfied: jmespath<1.0.0,>=0.7.1 in /home/ec2-user/anaconda3/envs/python3/lib/python3.6/site-packages (from boto3>=1.14.12->sagemaker==1.72.0) (0.10.0)\n",
      "Requirement already satisfied: s3transfer<0.6.0,>=0.5.0 in /home/ec2-user/anaconda3/envs/python3/lib/python3.6/site-packages (from boto3>=1.14.12->sagemaker==1.72.0) (0.5.0)\n",
      "Requirement already satisfied: botocore<1.22.0,>=1.21.39 in /home/ec2-user/anaconda3/envs/python3/lib/python3.6/site-packages (from boto3>=1.14.12->sagemaker==1.72.0) (1.21.39)\n",
      "Requirement already satisfied: urllib3<1.27,>=1.25.4 in /home/ec2-user/anaconda3/envs/python3/lib/python3.6/site-packages (from botocore<1.22.0,>=1.21.39->boto3>=1.14.12->sagemaker==1.72.0) (1.26.6)\n",
      "Requirement already satisfied: python-dateutil<3.0.0,>=2.1 in /home/ec2-user/anaconda3/envs/python3/lib/python3.6/site-packages (from botocore<1.22.0,>=1.21.39->boto3>=1.14.12->sagemaker==1.72.0) (2.8.1)\n",
      "Requirement already satisfied: typing-extensions>=3.6.4 in /home/ec2-user/anaconda3/envs/python3/lib/python3.6/site-packages (from importlib-metadata>=1.4.0->sagemaker==1.72.0) (3.7.4.3)\n",
      "Requirement already satisfied: zipp>=0.5 in /home/ec2-user/anaconda3/envs/python3/lib/python3.6/site-packages (from importlib-metadata>=1.4.0->sagemaker==1.72.0) (3.4.0)\n",
      "Requirement already satisfied: pyparsing>=2.0.2 in /home/ec2-user/anaconda3/envs/python3/lib/python3.6/site-packages (from packaging>=20.0->sagemaker==1.72.0) (2.4.7)\n",
      "Requirement already satisfied: six>=1.9 in /home/ec2-user/anaconda3/envs/python3/lib/python3.6/site-packages (from protobuf>=3.1->sagemaker==1.72.0) (1.15.0)\n"
     ]
    }
   ],
   "source": [
    "# Make sure that we use SageMaker 1.x\n",
    "!pip install sagemaker==1.72.0"
   ]
  },
  {
   "cell_type": "markdown",
   "metadata": {},
   "source": [
    "## Step 1: Downloading the data\n",
    "\n",
    "The dataset we are going to use is very popular among researchers in Natural Language Processing, usually referred to as the [IMDb dataset](http://ai.stanford.edu/~amaas/data/sentiment/). It consists of movie reviews from the website [imdb.com](http://www.imdb.com/), each labeled as either '**pos**itive', if the reviewer enjoyed the film, or '**neg**ative' otherwise.\n",
    "\n",
    "> Maas, Andrew L., et al. [Learning Word Vectors for Sentiment Analysis](http://ai.stanford.edu/~amaas/data/sentiment/). In _Proceedings of the 49th Annual Meeting of the Association for Computational Linguistics: Human Language Technologies_. Association for Computational Linguistics, 2011.\n",
    "\n",
    "We begin by using some Jupyter Notebook magic to download and extract the dataset."
   ]
  },
  {
   "cell_type": "code",
   "execution_count": 2,
   "metadata": {},
   "outputs": [
    {
     "name": "stdout",
     "output_type": "stream",
     "text": [
      "mkdir: cannot create directory ‘../data’: File exists\n",
      "--2021-09-17 07:30:07--  http://ai.stanford.edu/~amaas/data/sentiment/aclImdb_v1.tar.gz\n",
      "Resolving ai.stanford.edu (ai.stanford.edu)... 171.64.68.10\n",
      "Connecting to ai.stanford.edu (ai.stanford.edu)|171.64.68.10|:80... connected.\n",
      "HTTP request sent, awaiting response... 200 OK\n",
      "Length: 84125825 (80M) [application/x-gzip]\n",
      "Saving to: ‘../data/aclImdb_v1.tar.gz’\n",
      "\n",
      "../data/aclImdb_v1. 100%[===================>]  80.23M  21.9MB/s    in 4.7s    \n",
      "\n",
      "2021-09-17 07:30:12 (17.0 MB/s) - ‘../data/aclImdb_v1.tar.gz’ saved [84125825/84125825]\n",
      "\n"
     ]
    }
   ],
   "source": [
    "%mkdir ../data\n",
    "!wget -O ../data/aclImdb_v1.tar.gz http://ai.stanford.edu/~amaas/data/sentiment/aclImdb_v1.tar.gz\n",
    "!tar -zxf ../data/aclImdb_v1.tar.gz -C ../data"
   ]
  },
  {
   "cell_type": "markdown",
   "metadata": {},
   "source": [
    "## Step 2: Preparing the data\n",
    "\n",
    "The data we have downloaded is split into various files, each of which contains a single review. It will be much easier going forward if we combine these individual files into two large files, one for training and one for testing."
   ]
  },
  {
   "cell_type": "code",
   "execution_count": 3,
   "metadata": {},
   "outputs": [],
   "source": [
    "import os\n",
    "import glob\n",
    "\n",
    "def read_imdb_data(data_dir='../data/aclImdb'):\n",
    "    data = {}\n",
    "    labels = {}\n",
    "    \n",
    "    for data_type in ['train', 'test']:\n",
    "        data[data_type] = {}\n",
    "        labels[data_type] = {}\n",
    "        \n",
    "        for sentiment in ['pos', 'neg']:\n",
    "            data[data_type][sentiment] = []\n",
    "            labels[data_type][sentiment] = []\n",
    "            \n",
    "            path = os.path.join(data_dir, data_type, sentiment, '*.txt')\n",
    "            files = glob.glob(path)\n",
    "            \n",
    "            for f in files:\n",
    "                with open(f) as review:\n",
    "                    data[data_type][sentiment].append(review.read())\n",
    "                    # Here we represent a positive review by '1' and a negative review by '0'\n",
    "                    labels[data_type][sentiment].append(1 if sentiment == 'pos' else 0)\n",
    "                    \n",
    "            assert len(data[data_type][sentiment]) == len(labels[data_type][sentiment]), \\\n",
    "                    \"{}/{} data size does not match labels size\".format(data_type, sentiment)\n",
    "                \n",
    "    return data, labels"
   ]
  },
  {
   "cell_type": "code",
   "execution_count": 4,
   "metadata": {},
   "outputs": [
    {
     "name": "stdout",
     "output_type": "stream",
     "text": [
      "IMDB reviews: train = 12500 pos / 12500 neg, test = 12500 pos / 12500 neg\n"
     ]
    }
   ],
   "source": [
    "data, labels = read_imdb_data()\n",
    "print(\"IMDB reviews: train = {} pos / {} neg, test = {} pos / {} neg\".format(\n",
    "            len(data['train']['pos']), len(data['train']['neg']),\n",
    "            len(data['test']['pos']), len(data['test']['neg'])))"
   ]
  },
  {
   "cell_type": "code",
   "execution_count": 5,
   "metadata": {},
   "outputs": [],
   "source": [
    "from sklearn.utils import shuffle\n",
    "\n",
    "def prepare_imdb_data(data, labels):\n",
    "    \"\"\"Prepare training and test sets from IMDb movie reviews.\"\"\"\n",
    "    \n",
    "    #Combine positive and negative reviews and labels\n",
    "    data_train = data['train']['pos'] + data['train']['neg']\n",
    "    data_test = data['test']['pos'] + data['test']['neg']\n",
    "    labels_train = labels['train']['pos'] + labels['train']['neg']\n",
    "    labels_test = labels['test']['pos'] + labels['test']['neg']\n",
    "    \n",
    "    #Shuffle reviews and corresponding labels within training and test sets\n",
    "    data_train, labels_train = shuffle(data_train, labels_train)\n",
    "    data_test, labels_test = shuffle(data_test, labels_test)\n",
    "    \n",
    "    # Return a unified training data, test data, training labels, test labets\n",
    "    return data_train, data_test, labels_train, labels_test"
   ]
  },
  {
   "cell_type": "code",
   "execution_count": 6,
   "metadata": {},
   "outputs": [
    {
     "name": "stdout",
     "output_type": "stream",
     "text": [
      "IMDb reviews (combined): train = 25000, test = 25000\n"
     ]
    }
   ],
   "source": [
    "train_X, test_X, train_y, test_y = prepare_imdb_data(data, labels)\n",
    "print(\"IMDb reviews (combined): train = {}, test = {}\".format(len(train_X), len(test_X)))"
   ]
  },
  {
   "cell_type": "code",
   "execution_count": 7,
   "metadata": {},
   "outputs": [
    {
     "data": {
      "text/plain": [
       "\"Farrah Fawcett is superb in this powerful 1986 drama, where she plays Marjorie, a woman who manages to escape the clutches of a would-be rapist. Well done to Farrah for being a Golden Globe 'Best Actress' nominee.<br /><br />When her rapist Joe (terrifically played by James Russo) comes into her home, which she shares with her two roommates (who are conveniently out!), Marjorie has to play along with Joe's frightening demands. It does make for some disturbing and shocking images!<br /><br />When her roommates come home, they are astounded (to say the least) by Marjorie's actions, and a great performance by Alfre Woodard who desperately tries to convince Marjorie to do the right thing and turn him into the police, makes the film even more nail-biting.<br /><br />I do find Diana Scarwid quite irritating, but when Joe finally admits that he came there to kill them all, it makes the film a very emotional piece of drama indeed.<br /><br />Overall, Extremities is a brilliantly thought-out and well-acted movie and I must have watched it hundreds of time by now! Well done to everybody involved.\""
      ]
     },
     "execution_count": 7,
     "metadata": {},
     "output_type": "execute_result"
    }
   ],
   "source": [
    "train_X[100]"
   ]
  },
  {
   "cell_type": "markdown",
   "metadata": {},
   "source": [
    "## Step 3: Processing the data\n",
    "\n",
    "Now that we have our training and testing datasets merged and ready to use, we need to start processing the raw data into something that will be useable by our machine learning algorithm. To begin with, we remove any html formatting that may appear in the reviews and perform some standard natural language processing in order to homogenize the data."
   ]
  },
  {
   "cell_type": "code",
   "execution_count": 8,
   "metadata": {},
   "outputs": [
    {
     "name": "stderr",
     "output_type": "stream",
     "text": [
      "[nltk_data] Downloading package stopwords to\n",
      "[nltk_data]     /home/ec2-user/nltk_data...\n",
      "[nltk_data]   Package stopwords is already up-to-date!\n"
     ]
    }
   ],
   "source": [
    "import nltk\n",
    "nltk.download(\"stopwords\")\n",
    "from nltk.corpus import stopwords\n",
    "from nltk.stem.porter import *\n",
    "stemmer = PorterStemmer()"
   ]
  },
  {
   "cell_type": "code",
   "execution_count": 9,
   "metadata": {},
   "outputs": [],
   "source": [
    "import re\n",
    "from bs4 import BeautifulSoup\n",
    "\n",
    "def review_to_words(review):\n",
    "    text = BeautifulSoup(review, \"html.parser\").get_text() # Remove HTML tags\n",
    "    text = re.sub(r\"[^a-zA-Z0-9]\", \" \", text.lower()) # Convert to lower case\n",
    "    words = text.split() # Split string into words\n",
    "    words = [w for w in words if w not in stopwords.words(\"english\")] # Remove stopwords\n",
    "    words = [PorterStemmer().stem(w) for w in words] # stem\n",
    "    \n",
    "    return words"
   ]
  },
  {
   "cell_type": "code",
   "execution_count": 10,
   "metadata": {},
   "outputs": [],
   "source": [
    "import pickle\n",
    "\n",
    "cache_dir = os.path.join(\"../cache\", \"sentiment_analysis\")  # where to store cache files\n",
    "os.makedirs(cache_dir, exist_ok=True)  # ensure cache directory exists\n",
    "\n",
    "def preprocess_data(data_train, data_test, labels_train, labels_test,\n",
    "                    cache_dir=cache_dir, cache_file=\"preprocessed_data.pkl\"):\n",
    "    \"\"\"Convert each review to words; read from cache if available.\"\"\"\n",
    "\n",
    "    # If cache_file is not None, try to read from it first\n",
    "    cache_data = None\n",
    "    if cache_file is not None:\n",
    "        try:\n",
    "            with open(os.path.join(cache_dir, cache_file), \"rb\") as f:\n",
    "                cache_data = pickle.load(f)\n",
    "            print(\"Read preprocessed data from cache file:\", cache_file)\n",
    "        except:\n",
    "            pass  # unable to read from cache, but that's okay\n",
    "    \n",
    "    # If cache is missing, then do the heavy lifting\n",
    "    if cache_data is None:\n",
    "        # Preprocess training and test data to obtain words for each review\n",
    "        #words_train = list(map(review_to_words, data_train))\n",
    "        #words_test = list(map(review_to_words, data_test))\n",
    "        words_train = [review_to_words(review) for review in data_train]\n",
    "        words_test = [review_to_words(review) for review in data_test]\n",
    "        \n",
    "        # Write to cache file for future runs\n",
    "        if cache_file is not None:\n",
    "            cache_data = dict(words_train=words_train, words_test=words_test,\n",
    "                              labels_train=labels_train, labels_test=labels_test)\n",
    "            with open(os.path.join(cache_dir, cache_file), \"wb\") as f:\n",
    "                pickle.dump(cache_data, f)\n",
    "            print(\"Wrote preprocessed data to cache file:\", cache_file)\n",
    "    else:\n",
    "        # Unpack data loaded from cache file\n",
    "        words_train, words_test, labels_train, labels_test = (cache_data['words_train'],\n",
    "                cache_data['words_test'], cache_data['labels_train'], cache_data['labels_test'])\n",
    "    \n",
    "    return words_train, words_test, labels_train, labels_test"
   ]
  },
  {
   "cell_type": "code",
   "execution_count": 11,
   "metadata": {},
   "outputs": [
    {
     "name": "stdout",
     "output_type": "stream",
     "text": [
      "Read preprocessed data from cache file: preprocessed_data.pkl\n"
     ]
    }
   ],
   "source": [
    "# Preprocess data\n",
    "train_X, test_X, train_y, test_y = preprocess_data(train_X, test_X, train_y, test_y)"
   ]
  },
  {
   "cell_type": "markdown",
   "metadata": {},
   "source": [
    "### Extract Bag-of-Words features\n",
    "\n",
    "For the model we will be implementing, rather than using the reviews directly, we are going to transform each review into a Bag-of-Words feature representation. Keep in mind that 'in the wild' we will only have access to the training set so our transformer can only use the training set to construct a representation."
   ]
  },
  {
   "cell_type": "code",
   "execution_count": 12,
   "metadata": {},
   "outputs": [],
   "source": [
    "import numpy as np\n",
    "from sklearn.feature_extraction.text import CountVectorizer\n",
    "import joblib\n",
    "# joblib is an enhanced version of pickle that is more efficient for storing NumPy arrays\n",
    "\n",
    "def extract_BoW_features(words_train, words_test, vocabulary_size=5000,\n",
    "                         cache_dir=cache_dir, cache_file=\"bow_features.pkl\"):\n",
    "    \"\"\"Extract Bag-of-Words for a given set of documents, already preprocessed into words.\"\"\"\n",
    "    \n",
    "    # If cache_file is not None, try to read from it first\n",
    "    cache_data = None\n",
    "    if cache_file is not None:\n",
    "        try:\n",
    "            with open(os.path.join(cache_dir, cache_file), \"rb\") as f:\n",
    "                cache_data = joblib.load(f)\n",
    "            print(\"Read features from cache file:\", cache_file)\n",
    "        except:\n",
    "            pass  # unable to read from cache, but that's okay\n",
    "    \n",
    "    # If cache is missing, then do the heavy lifting\n",
    "    if cache_data is None:\n",
    "        # Fit a vectorizer to training documents and use it to transform them\n",
    "        # NOTE: Training documents have already been preprocessed and tokenized into words;\n",
    "        #       pass in dummy functions to skip those steps, e.g. preprocessor=lambda x: x\n",
    "        vectorizer = CountVectorizer(max_features=vocabulary_size,\n",
    "                preprocessor=lambda x: x, tokenizer=lambda x: x)  # already preprocessed\n",
    "        features_train = vectorizer.fit_transform(words_train).toarray()\n",
    "\n",
    "        # Apply the same vectorizer to transform the test documents (ignore unknown words)\n",
    "        features_test = vectorizer.transform(words_test).toarray()\n",
    "        \n",
    "        # NOTE: Remember to convert the features using .toarray() for a compact representation\n",
    "        \n",
    "        # Write to cache file for future runs (store vocabulary as well)\n",
    "        if cache_file is not None:\n",
    "            vocabulary = vectorizer.vocabulary_\n",
    "            cache_data = dict(features_train=features_train, features_test=features_test,\n",
    "                             vocabulary=vocabulary)\n",
    "            with open(os.path.join(cache_dir, cache_file), \"wb\") as f:\n",
    "                joblib.dump(cache_data, f)\n",
    "            print(\"Wrote features to cache file:\", cache_file)\n",
    "    else:\n",
    "        # Unpack data loaded from cache file\n",
    "        features_train, features_test, vocabulary = (cache_data['features_train'],\n",
    "                cache_data['features_test'], cache_data['vocabulary'])\n",
    "    \n",
    "    # Return both the extracted features as well as the vocabulary\n",
    "    return features_train, features_test, vocabulary"
   ]
  },
  {
   "cell_type": "code",
   "execution_count": 13,
   "metadata": {},
   "outputs": [
    {
     "name": "stdout",
     "output_type": "stream",
     "text": [
      "Read features from cache file: bow_features.pkl\n"
     ]
    }
   ],
   "source": [
    "# Extract Bag of Words features for both training and test datasets\n",
    "train_X, test_X, vocabulary = extract_BoW_features(train_X, test_X)"
   ]
  },
  {
   "cell_type": "markdown",
   "metadata": {},
   "source": [
    "## Step 4: Classification using XGBoost\n",
    "\n",
    "Now that we have created the feature representation of our training (and testing) data, it is time to start setting up and using the XGBoost classifier provided by SageMaker.\n",
    "\n",
    "### Writing the dataset\n",
    "\n",
    "The XGBoost classifier that we will be using requires the dataset to be written to a file and stored using Amazon S3. To do this, we will start by splitting the training dataset into two parts, the data we will train the model with and a validation set. Then, we will write those datasets to a file and upload the files to S3. In addition, we will write the test set input to a file and upload the file to S3. This is so that we can use SageMakers Batch Transform functionality to test our model once we've fit it."
   ]
  },
  {
   "cell_type": "code",
   "execution_count": 14,
   "metadata": {},
   "outputs": [],
   "source": [
    "import pandas as pd\n",
    "\n",
    "val_X = pd.DataFrame(train_X[:10000])\n",
    "train_X = pd.DataFrame(train_X[10000:])\n",
    "\n",
    "val_y = pd.DataFrame(train_y[:10000])\n",
    "train_y = pd.DataFrame(train_y[10000:])\n",
    "\n",
    "test_y = pd.DataFrame(test_y)\n",
    "test_X = pd.DataFrame(test_X)"
   ]
  },
  {
   "cell_type": "markdown",
   "metadata": {},
   "source": [
    "The documentation for the XGBoost algorithm in SageMaker requires that the saved datasets should contain no headers or index and that for the training and validation data, the label should occur first for each sample.\n",
    "\n",
    "For more information about this and other algorithms, the SageMaker developer documentation can be found on __[Amazon's website.](https://docs.aws.amazon.com/sagemaker/latest/dg/)__"
   ]
  },
  {
   "cell_type": "code",
   "execution_count": 15,
   "metadata": {},
   "outputs": [],
   "source": [
    "# First we make sure that the local directory in which we'd like to store the training and validation csv files exists.\n",
    "data_dir = '../data/xgboost'\n",
    "if not os.path.exists(data_dir):\n",
    "    os.makedirs(data_dir)"
   ]
  },
  {
   "cell_type": "code",
   "execution_count": 16,
   "metadata": {},
   "outputs": [],
   "source": [
    "# First, save the test data to test.csv in the data_dir directory. Note that we do not save the associated ground truth\n",
    "# labels, instead we will use them later to compare with our model output.\n",
    "\n",
    "# Solution:\n",
    "# The test data shouldn't contain the ground truth labels as they are what the model is\n",
    "# trying to predict. We will end up using them afterward to compare the predictions to.\n",
    "# pd.concat([test_y, test_X], axis=1).to_csv(os.path.join(data_dir, 'test.csv'), header=False, index=False)\n",
    "pd.DataFrame(test_X).to_csv(os.path.join(data_dir, 'test.csv'), header=False, index=False)\n",
    "\n",
    "pd.concat([val_y, val_X], axis=1).to_csv(os.path.join(data_dir, 'validation.csv'), header=False, index=False)\n",
    "pd.concat([train_y, train_X], axis=1).to_csv(os.path.join(data_dir, 'train.csv'), header=False, index=False)"
   ]
  },
  {
   "cell_type": "code",
   "execution_count": 17,
   "metadata": {},
   "outputs": [],
   "source": [
    "# To save a bit of memory we can set text_X, train_X, val_X, train_y and val_y to None.\n",
    "\n",
    "train_X = val_X = train_y = val_y = None"
   ]
  },
  {
   "cell_type": "markdown",
   "metadata": {},
   "source": [
    "### Uploading Training / Validation files to S3\n",
    "\n",
    "Amazon's S3 service allows us to store files that can be access by both the built-in training models such as the XGBoost model we will be using as well as custom models such as the one we will see a little later.\n",
    "\n",
    "For this, and most other tasks we will be doing using SageMaker, there are two methods we could use. The first is to use the low level functionality of SageMaker which requires knowing each of the objects involved in the SageMaker environment. The second is to use the high level functionality in which certain choices have been made on the user's behalf. The low level approach benefits from allowing the user a great deal of flexibility while the high level approach makes development much quicker. For our purposes we will opt to use the high level approach although using the low-level approach is certainly an option.\n",
    "\n",
    "Recall the method `upload_data()` which is a member of object representing our current SageMaker session. What this method does is upload the data to the default bucket (which is created if it does not exist) into the path described by the key_prefix variable. To see this for yourself, once you have uploaded the data files, go to the S3 console and look to see where the files have been uploaded.\n",
    "\n",
    "For additional resources, see the __[SageMaker API documentation](http://sagemaker.readthedocs.io/en/latest/)__ and in addition the __[SageMaker Developer Guide.](https://docs.aws.amazon.com/sagemaker/latest/dg/)__"
   ]
  },
  {
   "cell_type": "code",
   "execution_count": 18,
   "metadata": {},
   "outputs": [],
   "source": [
    "import sagemaker\n",
    "\n",
    "session = sagemaker.Session() # Store the current SageMaker session\n",
    "\n",
    "# S3 prefix (which folder will we use)\n",
    "prefix = 'sentiment-xgboost'\n",
    "\n",
    "test_location = session.upload_data(os.path.join(data_dir, 'test.csv'), key_prefix=prefix)\n",
    "val_location = session.upload_data(os.path.join(data_dir, 'validation.csv'), key_prefix=prefix)\n",
    "train_location = session.upload_data(os.path.join(data_dir, 'train.csv'), key_prefix=prefix)"
   ]
  },
  {
   "cell_type": "markdown",
   "metadata": {},
   "source": [
    "### (TODO) Creating a tuned XGBoost model\n",
    "\n",
    "Now that the data has been uploaded it is time to create the XGBoost model. As in the Boston Housing notebook, the first step is to create an estimator object which will be used as the *base* of your hyperparameter tuning job."
   ]
  },
  {
   "cell_type": "code",
   "execution_count": 19,
   "metadata": {},
   "outputs": [],
   "source": [
    "from sagemaker import get_execution_role\n",
    "\n",
    "# Our current execution role is require when creating the model as the training\n",
    "# and inference code will need to access the model artifacts.\n",
    "role = get_execution_role()"
   ]
  },
  {
   "cell_type": "code",
   "execution_count": 20,
   "metadata": {},
   "outputs": [
    {
     "name": "stderr",
     "output_type": "stream",
     "text": [
      "'get_image_uri' method will be deprecated in favor of 'ImageURIProvider' class in SageMaker Python SDK v2.\n",
      "There is a more up to date SageMaker XGBoost image. To use the newer image, please set 'repo_version'='1.0-1'. For example:\n",
      "\tget_image_uri(region, 'xgboost', '1.0-1').\n"
     ]
    }
   ],
   "source": [
    "# We need to retrieve the location of the container which is provided by Amazon for using XGBoost.\n",
    "# As a matter of convenience, the training and inference code both use the same container.\n",
    "from sagemaker.amazon.amazon_estimator import get_image_uri\n",
    "\n",
    "container = get_image_uri(session.boto_region_name, 'xgboost')"
   ]
  },
  {
   "cell_type": "code",
   "execution_count": 21,
   "metadata": {},
   "outputs": [
    {
     "name": "stderr",
     "output_type": "stream",
     "text": [
      "Parameter image_name will be renamed to image_uri in SageMaker Python SDK v2.\n"
     ]
    }
   ],
   "source": [
    "# TODO: Create a SageMaker estimator using the container location determined in the previous cell.\n",
    "#       It is recommended that you use a single training instance of type ml.m4.xlarge. It is also\n",
    "#       recommended that you use 's3://{}/{}/output'.format(session.default_bucket(), prefix) as the\n",
    "#       output path.\n",
    "\n",
    "xgb = None\n",
    "\n",
    "# Solution:\n",
    "xgb = sagemaker.estimator.Estimator(container, # The location of the container we wish to use\n",
    "                                    role,                                    # What is our current IAM Role\n",
    "                                    train_instance_count=1,                  # How many compute instances\n",
    "                                    train_instance_type='ml.m4.xlarge',      # What kind of compute instances\n",
    "                                    output_path='s3://{}/{}/output'.format(session.default_bucket(), prefix),\n",
    "                                    sagemaker_session=session)\n",
    "\n",
    "# TODO: Set the XGBoost hyperparameters in the xgb object. Don't forget that in this case we have a binary\n",
    "#       label so we should be using the 'binary:logistic' objective.\n",
    "\n",
    "# Solution:\n",
    "xgb.set_hyperparameters(max_depth=5,\n",
    "                        eta=0.2,\n",
    "                        gamma=4,\n",
    "                        min_child_weight=6,\n",
    "                        subsample=0.8,\n",
    "                        silent=0,\n",
    "                        objective='binary:logistic',\n",
    "                        early_stopping_rounds=10,\n",
    "                        num_round=500)"
   ]
  },
  {
   "cell_type": "markdown",
   "metadata": {},
   "source": [
    "### (TODO) Create the hyperparameter tuner\n",
    "\n",
    "Now that the base estimator has been set up we need to construct a hyperparameter tuner object which we will use to request SageMaker construct a hyperparameter tuning job.\n",
    "\n",
    "**Note:** Training a single sentiment analysis XGBoost model takes longer than training a Boston Housing XGBoost model so if you don't want the hyperparameter tuning job to take too long, make sure to not set the total number of models (jobs) too high."
   ]
  },
  {
   "cell_type": "code",
   "execution_count": 22,
   "metadata": {},
   "outputs": [],
   "source": [
    "# First, make sure to import the relevant objects used to construct the tuner\n",
    "from sagemaker.tuner import IntegerParameter, ContinuousParameter, HyperparameterTuner\n",
    "\n",
    "# TODO: Create the hyperparameter tuner object\n",
    "\n",
    "xgb_hyperparameter_tuner = None\n",
    "\n",
    "# Solution:\n",
    "\n",
    "xgb_hyperparameter_tuner = HyperparameterTuner(estimator = xgb, # The estimator object to use as the basis for the training jobs.\n",
    "                                               objective_metric_name = 'validation:rmse', # The metric used to compare trained models.\n",
    "                                               objective_type = 'Minimize', # Whether we wish to minimize or maximize the metric.\n",
    "                                               max_jobs = 6, # The total number of models to train\n",
    "                                               max_parallel_jobs = 3, # The number of models to train in parallel\n",
    "                                               hyperparameter_ranges = {\n",
    "                                                    'max_depth': IntegerParameter(3, 12),\n",
    "                                                    'eta'      : ContinuousParameter(0.05, 0.5),\n",
    "                                                    'min_child_weight': IntegerParameter(2, 8),\n",
    "                                                    'subsample': ContinuousParameter(0.5, 0.9),\n",
    "                                                    'gamma': ContinuousParameter(0, 10),\n",
    "                                               })"
   ]
  },
  {
   "cell_type": "markdown",
   "metadata": {},
   "source": [
    "### Fit the hyperparameter tuner\n",
    "\n",
    "Now that the hyperparameter tuner object has been constructed, it is time to fit the various models and find the best performing model."
   ]
  },
  {
   "cell_type": "code",
   "execution_count": 23,
   "metadata": {},
   "outputs": [
    {
     "name": "stderr",
     "output_type": "stream",
     "text": [
      "'s3_input' class will be renamed to 'TrainingInput' in SageMaker Python SDK v2.\n",
      "'s3_input' class will be renamed to 'TrainingInput' in SageMaker Python SDK v2.\n"
     ]
    }
   ],
   "source": [
    "s3_input_train = sagemaker.s3_input(s3_data=train_location, content_type='csv')\n",
    "s3_input_validation = sagemaker.s3_input(s3_data=val_location, content_type='csv')"
   ]
  },
  {
   "cell_type": "code",
   "execution_count": 24,
   "metadata": {},
   "outputs": [],
   "source": [
    "xgb_hyperparameter_tuner.fit({'train': s3_input_train, 'validation': s3_input_validation})"
   ]
  },
  {
   "cell_type": "markdown",
   "metadata": {},
   "source": [
    "Remember that the tuning job is constructed and run in the background so if we want to see the progress of our training job we need to call the `wait()` method."
   ]
  },
  {
   "cell_type": "code",
   "execution_count": 25,
   "metadata": {},
   "outputs": [
    {
     "name": "stdout",
     "output_type": "stream",
     "text": [
      ".............................................................................................................................................................................................................................................................................................................................!\n"
     ]
    }
   ],
   "source": [
    "xgb_hyperparameter_tuner.wait()"
   ]
  },
  {
   "cell_type": "markdown",
   "metadata": {},
   "source": [
    "### (TODO) Testing the model\n",
    "\n",
    "Now that we've run our hyperparameter tuning job, it's time to see how well the best performing model actually performs. To do this we will use SageMaker's Batch Transform functionality. Batch Transform is a convenient way to perform inference on a large dataset in a way that is not realtime. That is, we don't necessarily need to use our model's results immediately and instead we can peform inference on a large number of samples. An example of this in industry might be peforming an end of month report. This method of inference can also be useful to us as it means to can perform inference on our entire test set. \n",
    "\n",
    "Remember that in order to create a transformer object to perform the batch transform job, we need a trained estimator object. We can do that using the `attach()` method, creating an estimator object which is attached to the best trained job."
   ]
  },
  {
   "cell_type": "code",
   "execution_count": 26,
   "metadata": {},
   "outputs": [
    {
     "name": "stderr",
     "output_type": "stream",
     "text": [
      "Parameter image_name will be renamed to image_uri in SageMaker Python SDK v2.\n"
     ]
    },
    {
     "name": "stdout",
     "output_type": "stream",
     "text": [
      "2021-09-17 07:57:55 Starting - Preparing the instances for training\n",
      "2021-09-17 07:57:55 Downloading - Downloading input data\n",
      "2021-09-17 07:57:55 Training - Training image download completed. Training in progress.\n",
      "2021-09-17 07:57:55 Uploading - Uploading generated training model\n",
      "2021-09-17 07:57:55 Completed - Training job completed\u001b[34mArguments: train\u001b[0m\n",
      "\u001b[34m[2021-09-17:07:46:52:INFO] Running standalone xgboost training.\u001b[0m\n",
      "\u001b[34m[2021-09-17:07:46:52:INFO] Setting up HPO optimized metric to be : rmse\u001b[0m\n",
      "\u001b[34m[2021-09-17:07:46:52:INFO] File size need to be processed in the node: 238.47mb. Available memory size in the node: 8383.86mb\u001b[0m\n",
      "\u001b[34m[2021-09-17:07:46:52:INFO] Determined delimiter of CSV input is ','\u001b[0m\n",
      "\u001b[34m[07:46:52] S3DistributionType set as FullyReplicated\u001b[0m\n",
      "\u001b[34m[07:46:53] 15000x5000 matrix with 75000000 entries loaded from /opt/ml/input/data/train?format=csv&label_column=0&delimiter=,\u001b[0m\n",
      "\u001b[34m[2021-09-17:07:46:53:INFO] Determined delimiter of CSV input is ','\u001b[0m\n",
      "\u001b[34m[07:46:53] S3DistributionType set as FullyReplicated\u001b[0m\n",
      "\u001b[34m[07:46:55] 10000x5000 matrix with 50000000 entries loaded from /opt/ml/input/data/validation?format=csv&label_column=0&delimiter=,\u001b[0m\n",
      "\u001b[34m[07:46:59] src/tree/updater_prune.cc:74: tree pruning end, 1 roots, 78 extra nodes, 50 pruned nodes, max_depth=8\u001b[0m\n",
      "\u001b[34m[0]#011train-rmse:0.476819#011validation-rmse:0.47791\u001b[0m\n",
      "\u001b[34mMultiple eval metrics have been passed: 'validation-rmse' will be used for early stopping.\n",
      "\u001b[0m\n",
      "\u001b[34mWill train until validation-rmse hasn't improved in 10 rounds.\u001b[0m\n",
      "\u001b[34m[07:47:02] src/tree/updater_prune.cc:74: tree pruning end, 1 roots, 84 extra nodes, 40 pruned nodes, max_depth=8\u001b[0m\n",
      "\u001b[34m[1]#011train-rmse:0.458526#011validation-rmse:0.461337\u001b[0m\n",
      "\u001b[34m[07:47:05] src/tree/updater_prune.cc:74: tree pruning end, 1 roots, 62 extra nodes, 54 pruned nodes, max_depth=8\u001b[0m\n",
      "\u001b[34m[2]#011train-rmse:0.445683#011validation-rmse:0.449475\u001b[0m\n",
      "\u001b[34m[07:47:08] src/tree/updater_prune.cc:74: tree pruning end, 1 roots, 84 extra nodes, 64 pruned nodes, max_depth=8\u001b[0m\n",
      "\u001b[34m[3]#011train-rmse:0.434424#011validation-rmse:0.439187\u001b[0m\n",
      "\u001b[34m[07:47:11] src/tree/updater_prune.cc:74: tree pruning end, 1 roots, 44 extra nodes, 52 pruned nodes, max_depth=8\u001b[0m\n",
      "\u001b[34m[4]#011train-rmse:0.425557#011validation-rmse:0.431041\u001b[0m\n",
      "\u001b[34m[07:47:13] src/tree/updater_prune.cc:74: tree pruning end, 1 roots, 54 extra nodes, 42 pruned nodes, max_depth=8\u001b[0m\n",
      "\u001b[34m[5]#011train-rmse:0.417857#011validation-rmse:0.424756\u001b[0m\n",
      "\u001b[34m[07:47:16] src/tree/updater_prune.cc:74: tree pruning end, 1 roots, 42 extra nodes, 40 pruned nodes, max_depth=8\u001b[0m\n",
      "\u001b[34m[6]#011train-rmse:0.411494#011validation-rmse:0.419146\u001b[0m\n",
      "\u001b[34m[07:47:18] src/tree/updater_prune.cc:74: tree pruning end, 1 roots, 58 extra nodes, 44 pruned nodes, max_depth=8\u001b[0m\n",
      "\u001b[34m[7]#011train-rmse:0.40481#011validation-rmse:0.413531\u001b[0m\n",
      "\u001b[34m[07:47:21] src/tree/updater_prune.cc:74: tree pruning end, 1 roots, 40 extra nodes, 46 pruned nodes, max_depth=8\u001b[0m\n",
      "\u001b[34m[8]#011train-rmse:0.399419#011validation-rmse:0.409181\u001b[0m\n",
      "\u001b[34m[07:47:23] src/tree/updater_prune.cc:74: tree pruning end, 1 roots, 30 extra nodes, 54 pruned nodes, max_depth=8\u001b[0m\n",
      "\u001b[34m[9]#011train-rmse:0.394829#011validation-rmse:0.405092\u001b[0m\n",
      "\u001b[34m[07:47:26] src/tree/updater_prune.cc:74: tree pruning end, 1 roots, 48 extra nodes, 60 pruned nodes, max_depth=8\u001b[0m\n",
      "\u001b[34m[10]#011train-rmse:0.390018#011validation-rmse:0.401375\u001b[0m\n",
      "\u001b[34m[07:47:28] src/tree/updater_prune.cc:74: tree pruning end, 1 roots, 50 extra nodes, 54 pruned nodes, max_depth=8\u001b[0m\n",
      "\u001b[34m[11]#011train-rmse:0.385789#011validation-rmse:0.397659\u001b[0m\n",
      "\u001b[34m[07:47:31] src/tree/updater_prune.cc:74: tree pruning end, 1 roots, 38 extra nodes, 62 pruned nodes, max_depth=8\u001b[0m\n",
      "\u001b[34m[12]#011train-rmse:0.381672#011validation-rmse:0.394161\u001b[0m\n",
      "\u001b[34m[07:47:33] src/tree/updater_prune.cc:74: tree pruning end, 1 roots, 28 extra nodes, 48 pruned nodes, max_depth=8\u001b[0m\n",
      "\u001b[34m[13]#011train-rmse:0.378357#011validation-rmse:0.391175\u001b[0m\n",
      "\u001b[34m[07:47:36] src/tree/updater_prune.cc:74: tree pruning end, 1 roots, 36 extra nodes, 34 pruned nodes, max_depth=8\u001b[0m\n",
      "\u001b[34m[14]#011train-rmse:0.374876#011validation-rmse:0.38854\u001b[0m\n",
      "\u001b[34m[07:47:38] src/tree/updater_prune.cc:74: tree pruning end, 1 roots, 40 extra nodes, 70 pruned nodes, max_depth=8\u001b[0m\n",
      "\u001b[34m[15]#011train-rmse:0.371653#011validation-rmse:0.386427\u001b[0m\n",
      "\u001b[34m[07:47:41] src/tree/updater_prune.cc:74: tree pruning end, 1 roots, 26 extra nodes, 70 pruned nodes, max_depth=8\u001b[0m\n",
      "\u001b[34m[16]#011train-rmse:0.368827#011validation-rmse:0.384211\u001b[0m\n",
      "\u001b[34m[07:47:43] src/tree/updater_prune.cc:74: tree pruning end, 1 roots, 58 extra nodes, 38 pruned nodes, max_depth=8\u001b[0m\n",
      "\u001b[34m[17]#011train-rmse:0.3652#011validation-rmse:0.381734\u001b[0m\n",
      "\u001b[34m[07:47:46] src/tree/updater_prune.cc:74: tree pruning end, 1 roots, 62 extra nodes, 64 pruned nodes, max_depth=8\u001b[0m\n",
      "\u001b[34m[18]#011train-rmse:0.361618#011validation-rmse:0.379244\u001b[0m\n",
      "\u001b[34m[07:47:48] src/tree/updater_prune.cc:74: tree pruning end, 1 roots, 42 extra nodes, 70 pruned nodes, max_depth=8\u001b[0m\n",
      "\u001b[34m[19]#011train-rmse:0.358958#011validation-rmse:0.377228\u001b[0m\n",
      "\u001b[34m[07:47:51] src/tree/updater_prune.cc:74: tree pruning end, 1 roots, 38 extra nodes, 50 pruned nodes, max_depth=8\u001b[0m\n",
      "\u001b[34m[20]#011train-rmse:0.356573#011validation-rmse:0.375151\u001b[0m\n",
      "\u001b[34m[07:47:53] src/tree/updater_prune.cc:74: tree pruning end, 1 roots, 52 extra nodes, 44 pruned nodes, max_depth=8\u001b[0m\n",
      "\u001b[34m[21]#011train-rmse:0.353885#011validation-rmse:0.373327\u001b[0m\n",
      "\u001b[34m[07:47:56] src/tree/updater_prune.cc:74: tree pruning end, 1 roots, 48 extra nodes, 52 pruned nodes, max_depth=8\u001b[0m\n",
      "\u001b[34m[22]#011train-rmse:0.351322#011validation-rmse:0.371768\u001b[0m\n",
      "\u001b[34m[07:47:58] src/tree/updater_prune.cc:74: tree pruning end, 1 roots, 60 extra nodes, 48 pruned nodes, max_depth=8\u001b[0m\n",
      "\u001b[34m[23]#011train-rmse:0.348299#011validation-rmse:0.370011\u001b[0m\n",
      "\u001b[34m[07:48:01] src/tree/updater_prune.cc:74: tree pruning end, 1 roots, 46 extra nodes, 50 pruned nodes, max_depth=8\u001b[0m\n",
      "\u001b[34m[24]#011train-rmse:0.345766#011validation-rmse:0.368432\u001b[0m\n",
      "\u001b[34m[07:48:04] src/tree/updater_prune.cc:74: tree pruning end, 1 roots, 24 extra nodes, 38 pruned nodes, max_depth=8\u001b[0m\n",
      "\u001b[34m[25]#011train-rmse:0.344092#011validation-rmse:0.367115\u001b[0m\n",
      "\u001b[34m[07:48:06] src/tree/updater_prune.cc:74: tree pruning end, 1 roots, 32 extra nodes, 40 pruned nodes, max_depth=8\u001b[0m\n",
      "\u001b[34m[26]#011train-rmse:0.342204#011validation-rmse:0.365498\u001b[0m\n",
      "\u001b[34m[07:48:09] src/tree/updater_prune.cc:74: tree pruning end, 1 roots, 32 extra nodes, 60 pruned nodes, max_depth=8\u001b[0m\n",
      "\u001b[34m[27]#011train-rmse:0.340003#011validation-rmse:0.363956\u001b[0m\n",
      "\u001b[34m[07:48:11] src/tree/updater_prune.cc:74: tree pruning end, 1 roots, 30 extra nodes, 60 pruned nodes, max_depth=8\u001b[0m\n",
      "\u001b[34m[28]#011train-rmse:0.338182#011validation-rmse:0.362375\u001b[0m\n",
      "\u001b[34m[07:48:14] src/tree/updater_prune.cc:74: tree pruning end, 1 roots, 42 extra nodes, 60 pruned nodes, max_depth=8\u001b[0m\n",
      "\u001b[34m[29]#011train-rmse:0.33608#011validation-rmse:0.361126\u001b[0m\n",
      "\u001b[34m[07:48:16] src/tree/updater_prune.cc:74: tree pruning end, 1 roots, 32 extra nodes, 50 pruned nodes, max_depth=8\u001b[0m\n",
      "\u001b[34m[30]#011train-rmse:0.334534#011validation-rmse:0.359995\u001b[0m\n",
      "\u001b[34m[07:48:19] src/tree/updater_prune.cc:74: tree pruning end, 1 roots, 32 extra nodes, 54 pruned nodes, max_depth=8\u001b[0m\n",
      "\u001b[34m[31]#011train-rmse:0.332807#011validation-rmse:0.358758\u001b[0m\n",
      "\u001b[34m[07:48:21] src/tree/updater_prune.cc:74: tree pruning end, 1 roots, 28 extra nodes, 38 pruned nodes, max_depth=8\u001b[0m\n",
      "\u001b[34m[32]#011train-rmse:0.331333#011validation-rmse:0.357663\u001b[0m\n",
      "\u001b[34m[07:48:24] src/tree/updater_prune.cc:74: tree pruning end, 1 roots, 20 extra nodes, 46 pruned nodes, max_depth=8\u001b[0m\n",
      "\u001b[34m[33]#011train-rmse:0.330075#011validation-rmse:0.356634\u001b[0m\n",
      "\u001b[34m[07:48:26] src/tree/updater_prune.cc:74: tree pruning end, 1 roots, 28 extra nodes, 52 pruned nodes, max_depth=8\u001b[0m\n",
      "\u001b[34m[34]#011train-rmse:0.328618#011validation-rmse:0.355409\u001b[0m\n",
      "\u001b[34m[07:48:29] src/tree/updater_prune.cc:74: tree pruning end, 1 roots, 34 extra nodes, 54 pruned nodes, max_depth=8\u001b[0m\n",
      "\u001b[34m[35]#011train-rmse:0.327017#011validation-rmse:0.354505\u001b[0m\n",
      "\u001b[34m[07:48:31] src/tree/updater_prune.cc:74: tree pruning end, 1 roots, 22 extra nodes, 50 pruned nodes, max_depth=8\u001b[0m\n",
      "\u001b[34m[36]#011train-rmse:0.325751#011validation-rmse:0.353624\u001b[0m\n",
      "\u001b[34m[07:48:34] src/tree/updater_prune.cc:74: tree pruning end, 1 roots, 32 extra nodes, 68 pruned nodes, max_depth=8\u001b[0m\n",
      "\u001b[34m[37]#011train-rmse:0.324304#011validation-rmse:0.352647\u001b[0m\n",
      "\u001b[34m[07:48:36] src/tree/updater_prune.cc:74: tree pruning end, 1 roots, 28 extra nodes, 40 pruned nodes, max_depth=8\u001b[0m\n",
      "\u001b[34m[38]#011train-rmse:0.322907#011validation-rmse:0.351658\u001b[0m\n",
      "\u001b[34m[07:48:39] src/tree/updater_prune.cc:74: tree pruning end, 1 roots, 32 extra nodes, 34 pruned nodes, max_depth=8\u001b[0m\n",
      "\u001b[34m[39]#011train-rmse:0.321467#011validation-rmse:0.350727\u001b[0m\n",
      "\u001b[34m[07:48:41] src/tree/updater_prune.cc:74: tree pruning end, 1 roots, 22 extra nodes, 62 pruned nodes, max_depth=8\u001b[0m\n",
      "\u001b[34m[40]#011train-rmse:0.320358#011validation-rmse:0.349886\u001b[0m\n",
      "\u001b[34m[07:48:44] src/tree/updater_prune.cc:74: tree pruning end, 1 roots, 26 extra nodes, 50 pruned nodes, max_depth=8\u001b[0m\n",
      "\u001b[34m[41]#011train-rmse:0.319054#011validation-rmse:0.349003\u001b[0m\n",
      "\u001b[34m[07:48:46] src/tree/updater_prune.cc:74: tree pruning end, 1 roots, 26 extra nodes, 56 pruned nodes, max_depth=8\u001b[0m\n",
      "\u001b[34m[42]#011train-rmse:0.317701#011validation-rmse:0.348386\u001b[0m\n",
      "\u001b[34m[07:48:49] src/tree/updater_prune.cc:74: tree pruning end, 1 roots, 24 extra nodes, 48 pruned nodes, max_depth=8\u001b[0m\n",
      "\u001b[34m[43]#011train-rmse:0.316439#011validation-rmse:0.347592\u001b[0m\n",
      "\u001b[34m[07:48:51] src/tree/updater_prune.cc:74: tree pruning end, 1 roots, 34 extra nodes, 54 pruned nodes, max_depth=8\u001b[0m\n",
      "\u001b[34m[44]#011train-rmse:0.315067#011validation-rmse:0.34709\u001b[0m\n",
      "\u001b[34m[07:48:54] src/tree/updater_prune.cc:74: tree pruning end, 1 roots, 28 extra nodes, 56 pruned nodes, max_depth=8\u001b[0m\n",
      "\u001b[34m[45]#011train-rmse:0.313849#011validation-rmse:0.346355\u001b[0m\n",
      "\u001b[34m[07:48:56] src/tree/updater_prune.cc:74: tree pruning end, 1 roots, 18 extra nodes, 46 pruned nodes, max_depth=8\u001b[0m\n",
      "\u001b[34m[46]#011train-rmse:0.313089#011validation-rmse:0.345636\u001b[0m\n",
      "\u001b[34m[07:48:59] src/tree/updater_prune.cc:74: tree pruning end, 1 roots, 24 extra nodes, 46 pruned nodes, max_depth=8\u001b[0m\n",
      "\u001b[34m[47]#011train-rmse:0.311962#011validation-rmse:0.344773\u001b[0m\n",
      "\u001b[34m[07:49:01] src/tree/updater_prune.cc:74: tree pruning end, 1 roots, 22 extra nodes, 38 pruned nodes, max_depth=8\u001b[0m\n",
      "\u001b[34m[48]#011train-rmse:0.310895#011validation-rmse:0.343813\u001b[0m\n",
      "\u001b[34m[07:49:04] src/tree/updater_prune.cc:74: tree pruning end, 1 roots, 20 extra nodes, 40 pruned nodes, max_depth=8\u001b[0m\n",
      "\u001b[34m[49]#011train-rmse:0.309994#011validation-rmse:0.343054\u001b[0m\n",
      "\u001b[34m[07:49:07] src/tree/updater_prune.cc:74: tree pruning end, 1 roots, 22 extra nodes, 54 pruned nodes, max_depth=8\u001b[0m\n",
      "\u001b[34m[50]#011train-rmse:0.309087#011validation-rmse:0.342376\u001b[0m\n",
      "\u001b[34m[07:49:09] src/tree/updater_prune.cc:74: tree pruning end, 1 roots, 16 extra nodes, 42 pruned nodes, max_depth=8\u001b[0m\n",
      "\u001b[34m[51]#011train-rmse:0.30828#011validation-rmse:0.341839\u001b[0m\n",
      "\u001b[34m[07:49:12] src/tree/updater_prune.cc:74: tree pruning end, 1 roots, 20 extra nodes, 40 pruned nodes, max_depth=8\u001b[0m\n",
      "\u001b[34m[52]#011train-rmse:0.307357#011validation-rmse:0.341185\u001b[0m\n",
      "\u001b[34m[07:49:14] src/tree/updater_prune.cc:74: tree pruning end, 1 roots, 20 extra nodes, 38 pruned nodes, max_depth=8\u001b[0m\n",
      "\u001b[34m[53]#011train-rmse:0.306265#011validation-rmse:0.340337\u001b[0m\n",
      "\u001b[34m[07:49:17] src/tree/updater_prune.cc:74: tree pruning end, 1 roots, 18 extra nodes, 20 pruned nodes, max_depth=8\u001b[0m\n",
      "\u001b[34m[54]#011train-rmse:0.305334#011validation-rmse:0.339568\u001b[0m\n",
      "\u001b[34m[07:49:19] src/tree/updater_prune.cc:74: tree pruning end, 1 roots, 24 extra nodes, 44 pruned nodes, max_depth=8\u001b[0m\n",
      "\u001b[34m[55]#011train-rmse:0.304413#011validation-rmse:0.338922\u001b[0m\n",
      "\u001b[34m[07:49:22] src/tree/updater_prune.cc:74: tree pruning end, 1 roots, 20 extra nodes, 82 pruned nodes, max_depth=8\u001b[0m\n",
      "\u001b[34m[56]#011train-rmse:0.303614#011validation-rmse:0.33848\u001b[0m\n",
      "\u001b[34m[07:49:24] src/tree/updater_prune.cc:74: tree pruning end, 1 roots, 32 extra nodes, 52 pruned nodes, max_depth=8\u001b[0m\n",
      "\u001b[34m[57]#011train-rmse:0.302446#011validation-rmse:0.337848\u001b[0m\n",
      "\u001b[34m[07:49:27] src/tree/updater_prune.cc:74: tree pruning end, 1 roots, 38 extra nodes, 50 pruned nodes, max_depth=8\u001b[0m\n",
      "\u001b[34m[58]#011train-rmse:0.301224#011validation-rmse:0.337445\u001b[0m\n",
      "\u001b[34m[07:49:29] src/tree/updater_prune.cc:74: tree pruning end, 1 roots, 26 extra nodes, 58 pruned nodes, max_depth=8\u001b[0m\n",
      "\u001b[34m[59]#011train-rmse:0.300506#011validation-rmse:0.336996\u001b[0m\n",
      "\u001b[34m[07:49:32] src/tree/updater_prune.cc:74: tree pruning end, 1 roots, 18 extra nodes, 26 pruned nodes, max_depth=8\u001b[0m\n",
      "\u001b[34m[60]#011train-rmse:0.299734#011validation-rmse:0.336673\u001b[0m\n",
      "\u001b[34m[07:49:34] src/tree/updater_prune.cc:74: tree pruning end, 1 roots, 22 extra nodes, 34 pruned nodes, max_depth=8\u001b[0m\n",
      "\u001b[34m[61]#011train-rmse:0.298964#011validation-rmse:0.336304\u001b[0m\n",
      "\u001b[34m[07:49:37] src/tree/updater_prune.cc:74: tree pruning end, 1 roots, 24 extra nodes, 32 pruned nodes, max_depth=8\u001b[0m\n",
      "\u001b[34m[62]#011train-rmse:0.298024#011validation-rmse:0.335784\u001b[0m\n",
      "\u001b[34m[07:49:39] src/tree/updater_prune.cc:74: tree pruning end, 1 roots, 34 extra nodes, 32 pruned nodes, max_depth=8\u001b[0m\n",
      "\u001b[34m[63]#011train-rmse:0.296915#011validation-rmse:0.335185\u001b[0m\n",
      "\u001b[34m[07:49:42] src/tree/updater_prune.cc:74: tree pruning end, 1 roots, 22 extra nodes, 44 pruned nodes, max_depth=8\u001b[0m\n",
      "\u001b[34m[64]#011train-rmse:0.296042#011validation-rmse:0.33477\u001b[0m\n",
      "\u001b[34m[07:49:44] src/tree/updater_prune.cc:74: tree pruning end, 1 roots, 22 extra nodes, 46 pruned nodes, max_depth=8\u001b[0m\n",
      "\u001b[34m[65]#011train-rmse:0.295291#011validation-rmse:0.334511\u001b[0m\n",
      "\u001b[34m[07:49:47] src/tree/updater_prune.cc:74: tree pruning end, 1 roots, 16 extra nodes, 46 pruned nodes, max_depth=8\u001b[0m\n",
      "\u001b[34m[66]#011train-rmse:0.294667#011validation-rmse:0.334006\u001b[0m\n",
      "\u001b[34m[07:49:49] src/tree/updater_prune.cc:74: tree pruning end, 1 roots, 26 extra nodes, 76 pruned nodes, max_depth=8\u001b[0m\n",
      "\u001b[34m[67]#011train-rmse:0.293816#011validation-rmse:0.33343\u001b[0m\n",
      "\u001b[34m[07:49:52] src/tree/updater_prune.cc:74: tree pruning end, 1 roots, 24 extra nodes, 52 pruned nodes, max_depth=8\u001b[0m\n",
      "\u001b[34m[68]#011train-rmse:0.292926#011validation-rmse:0.33296\u001b[0m\n",
      "\u001b[34m[07:49:55] src/tree/updater_prune.cc:74: tree pruning end, 1 roots, 20 extra nodes, 32 pruned nodes, max_depth=8\u001b[0m\n",
      "\u001b[34m[69]#011train-rmse:0.292247#011validation-rmse:0.332522\u001b[0m\n",
      "\u001b[34m[07:49:57] src/tree/updater_prune.cc:74: tree pruning end, 1 roots, 18 extra nodes, 36 pruned nodes, max_depth=8\u001b[0m\n",
      "\u001b[34m[70]#011train-rmse:0.29165#011validation-rmse:0.331943\u001b[0m\n",
      "\u001b[34m[07:49:59] src/tree/updater_prune.cc:74: tree pruning end, 1 roots, 22 extra nodes, 40 pruned nodes, max_depth=8\u001b[0m\n",
      "\u001b[34m[71]#011train-rmse:0.290903#011validation-rmse:0.331489\u001b[0m\n",
      "\u001b[34m[07:50:02] src/tree/updater_prune.cc:74: tree pruning end, 1 roots, 16 extra nodes, 28 pruned nodes, max_depth=8\u001b[0m\n",
      "\u001b[34m[72]#011train-rmse:0.290372#011validation-rmse:0.331193\u001b[0m\n",
      "\u001b[34m[07:50:05] src/tree/updater_prune.cc:74: tree pruning end, 1 roots, 32 extra nodes, 42 pruned nodes, max_depth=8\u001b[0m\n",
      "\u001b[34m[73]#011train-rmse:0.289487#011validation-rmse:0.331147\u001b[0m\n",
      "\u001b[34m[07:50:08] src/tree/updater_prune.cc:74: tree pruning end, 1 roots, 16 extra nodes, 44 pruned nodes, max_depth=8\u001b[0m\n",
      "\u001b[34m[74]#011train-rmse:0.288934#011validation-rmse:0.330729\u001b[0m\n",
      "\u001b[34m[07:50:10] src/tree/updater_prune.cc:74: tree pruning end, 1 roots, 18 extra nodes, 26 pruned nodes, max_depth=8\u001b[0m\n",
      "\u001b[34m[75]#011train-rmse:0.288348#011validation-rmse:0.330261\u001b[0m\n",
      "\u001b[34m[07:50:13] src/tree/updater_prune.cc:74: tree pruning end, 1 roots, 26 extra nodes, 42 pruned nodes, max_depth=8\u001b[0m\n",
      "\u001b[34m[76]#011train-rmse:0.287474#011validation-rmse:0.329765\u001b[0m\n",
      "\u001b[34m[07:50:15] src/tree/updater_prune.cc:74: tree pruning end, 1 roots, 18 extra nodes, 52 pruned nodes, max_depth=8\u001b[0m\n",
      "\u001b[34m[77]#011train-rmse:0.286931#011validation-rmse:0.329418\u001b[0m\n",
      "\u001b[34m[07:50:18] src/tree/updater_prune.cc:74: tree pruning end, 1 roots, 20 extra nodes, 66 pruned nodes, max_depth=8\u001b[0m\n",
      "\u001b[34m[78]#011train-rmse:0.286194#011validation-rmse:0.328911\u001b[0m\n",
      "\u001b[34m[07:50:20] src/tree/updater_prune.cc:74: tree pruning end, 1 roots, 16 extra nodes, 44 pruned nodes, max_depth=8\u001b[0m\n",
      "\u001b[34m[79]#011train-rmse:0.28567#011validation-rmse:0.328608\u001b[0m\n",
      "\u001b[34m[07:50:23] src/tree/updater_prune.cc:74: tree pruning end, 1 roots, 22 extra nodes, 46 pruned nodes, max_depth=8\u001b[0m\n",
      "\u001b[34m[80]#011train-rmse:0.285158#011validation-rmse:0.328512\u001b[0m\n",
      "\u001b[34m[07:50:25] src/tree/updater_prune.cc:74: tree pruning end, 1 roots, 18 extra nodes, 62 pruned nodes, max_depth=8\u001b[0m\n",
      "\u001b[34m[81]#011train-rmse:0.284587#011validation-rmse:0.328103\u001b[0m\n",
      "\u001b[34m[07:50:28] src/tree/updater_prune.cc:74: tree pruning end, 1 roots, 18 extra nodes, 28 pruned nodes, max_depth=8\u001b[0m\n",
      "\u001b[34m[82]#011train-rmse:0.283971#011validation-rmse:0.327754\u001b[0m\n",
      "\u001b[34m[07:50:30] src/tree/updater_prune.cc:74: tree pruning end, 1 roots, 22 extra nodes, 50 pruned nodes, max_depth=8\u001b[0m\n",
      "\u001b[34m[83]#011train-rmse:0.283244#011validation-rmse:0.327479\u001b[0m\n",
      "\u001b[34m[07:50:33] src/tree/updater_prune.cc:74: tree pruning end, 1 roots, 16 extra nodes, 26 pruned nodes, max_depth=8\u001b[0m\n",
      "\u001b[34m[84]#011train-rmse:0.282778#011validation-rmse:0.327176\u001b[0m\n",
      "\u001b[34m[07:50:35] src/tree/updater_prune.cc:74: tree pruning end, 1 roots, 18 extra nodes, 18 pruned nodes, max_depth=8\u001b[0m\n",
      "\u001b[34m[85]#011train-rmse:0.282214#011validation-rmse:0.326868\u001b[0m\n",
      "\u001b[34m[07:50:38] src/tree/updater_prune.cc:74: tree pruning end, 1 roots, 16 extra nodes, 36 pruned nodes, max_depth=8\u001b[0m\n",
      "\u001b[34m[86]#011train-rmse:0.281682#011validation-rmse:0.326611\u001b[0m\n",
      "\u001b[34m[07:50:40] src/tree/updater_prune.cc:74: tree pruning end, 1 roots, 22 extra nodes, 36 pruned nodes, max_depth=8\u001b[0m\n",
      "\u001b[34m[87]#011train-rmse:0.281045#011validation-rmse:0.326432\u001b[0m\n",
      "\u001b[34m[07:50:43] src/tree/updater_prune.cc:74: tree pruning end, 1 roots, 16 extra nodes, 24 pruned nodes, max_depth=8\u001b[0m\n",
      "\u001b[34m[88]#011train-rmse:0.280451#011validation-rmse:0.326133\u001b[0m\n",
      "\u001b[34m[07:50:45] src/tree/updater_prune.cc:74: tree pruning end, 1 roots, 16 extra nodes, 56 pruned nodes, max_depth=8\u001b[0m\n",
      "\u001b[34m[89]#011train-rmse:0.280063#011validation-rmse:0.325947\u001b[0m\n",
      "\u001b[34m[07:50:48] src/tree/updater_prune.cc:74: tree pruning end, 1 roots, 16 extra nodes, 42 pruned nodes, max_depth=8\u001b[0m\n",
      "\u001b[34m[90]#011train-rmse:0.279595#011validation-rmse:0.325816\u001b[0m\n",
      "\u001b[34m[07:50:50] src/tree/updater_prune.cc:74: tree pruning end, 1 roots, 16 extra nodes, 28 pruned nodes, max_depth=8\u001b[0m\n",
      "\u001b[34m[91]#011train-rmse:0.279169#011validation-rmse:0.325585\u001b[0m\n",
      "\u001b[34m[07:50:53] src/tree/updater_prune.cc:74: tree pruning end, 1 roots, 16 extra nodes, 38 pruned nodes, max_depth=8\u001b[0m\n",
      "\u001b[34m[92]#011train-rmse:0.278752#011validation-rmse:0.325306\u001b[0m\n",
      "\u001b[34m[07:50:55] src/tree/updater_prune.cc:74: tree pruning end, 1 roots, 20 extra nodes, 44 pruned nodes, max_depth=8\u001b[0m\n",
      "\u001b[34m[93]#011train-rmse:0.27809#011validation-rmse:0.324945\u001b[0m\n",
      "\u001b[34m[07:50:58] src/tree/updater_prune.cc:74: tree pruning end, 1 roots, 16 extra nodes, 36 pruned nodes, max_depth=8\u001b[0m\n",
      "\u001b[34m[94]#011train-rmse:0.277604#011validation-rmse:0.324537\u001b[0m\n",
      "\u001b[34m[07:51:00] src/tree/updater_prune.cc:74: tree pruning end, 1 roots, 26 extra nodes, 64 pruned nodes, max_depth=8\u001b[0m\n",
      "\u001b[34m[95]#011train-rmse:0.277006#011validation-rmse:0.324151\u001b[0m\n",
      "\u001b[34m[07:51:03] src/tree/updater_prune.cc:74: tree pruning end, 1 roots, 16 extra nodes, 52 pruned nodes, max_depth=8\u001b[0m\n",
      "\u001b[34m[96]#011train-rmse:0.276552#011validation-rmse:0.323938\u001b[0m\n",
      "\u001b[34m[07:51:06] src/tree/updater_prune.cc:74: tree pruning end, 1 roots, 24 extra nodes, 84 pruned nodes, max_depth=8\u001b[0m\n",
      "\u001b[34m[97]#011train-rmse:0.275885#011validation-rmse:0.323954\u001b[0m\n",
      "\u001b[34m[07:51:08] src/tree/updater_prune.cc:74: tree pruning end, 1 roots, 18 extra nodes, 54 pruned nodes, max_depth=8\u001b[0m\n",
      "\u001b[34m[98]#011train-rmse:0.275437#011validation-rmse:0.323504\u001b[0m\n",
      "\u001b[34m[07:51:11] src/tree/updater_prune.cc:74: tree pruning end, 1 roots, 20 extra nodes, 14 pruned nodes, max_depth=8\u001b[0m\n",
      "\u001b[34m[99]#011train-rmse:0.274846#011validation-rmse:0.323227\u001b[0m\n",
      "\u001b[34m[07:51:13] src/tree/updater_prune.cc:74: tree pruning end, 1 roots, 20 extra nodes, 40 pruned nodes, max_depth=8\u001b[0m\n",
      "\u001b[34m[100]#011train-rmse:0.274263#011validation-rmse:0.322871\u001b[0m\n",
      "\u001b[34m[07:51:16] src/tree/updater_prune.cc:74: tree pruning end, 1 roots, 26 extra nodes, 44 pruned nodes, max_depth=8\u001b[0m\n",
      "\u001b[34m[101]#011train-rmse:0.273644#011validation-rmse:0.322629\u001b[0m\n",
      "\u001b[34m[07:51:18] src/tree/updater_prune.cc:74: tree pruning end, 1 roots, 16 extra nodes, 30 pruned nodes, max_depth=8\u001b[0m\n",
      "\u001b[34m[102]#011train-rmse:0.273288#011validation-rmse:0.322367\u001b[0m\n",
      "\u001b[34m[07:51:21] src/tree/updater_prune.cc:74: tree pruning end, 1 roots, 20 extra nodes, 50 pruned nodes, max_depth=8\u001b[0m\n",
      "\u001b[34m[103]#011train-rmse:0.272745#011validation-rmse:0.32209\u001b[0m\n",
      "\u001b[34m[07:51:23] src/tree/updater_prune.cc:74: tree pruning end, 1 roots, 16 extra nodes, 36 pruned nodes, max_depth=8\u001b[0m\n",
      "\u001b[34m[104]#011train-rmse:0.272352#011validation-rmse:0.3218\u001b[0m\n",
      "\u001b[34m[07:51:26] src/tree/updater_prune.cc:74: tree pruning end, 1 roots, 16 extra nodes, 44 pruned nodes, max_depth=8\u001b[0m\n",
      "\u001b[34m[105]#011train-rmse:0.272#011validation-rmse:0.32169\u001b[0m\n",
      "\u001b[34m[07:51:28] src/tree/updater_prune.cc:74: tree pruning end, 1 roots, 18 extra nodes, 44 pruned nodes, max_depth=8\u001b[0m\n",
      "\u001b[34m[106]#011train-rmse:0.271493#011validation-rmse:0.321635\u001b[0m\n",
      "\u001b[34m[07:51:31] src/tree/updater_prune.cc:74: tree pruning end, 1 roots, 16 extra nodes, 30 pruned nodes, max_depth=8\u001b[0m\n",
      "\u001b[34m[107]#011train-rmse:0.271057#011validation-rmse:0.321586\u001b[0m\n",
      "\u001b[34m[07:51:33] src/tree/updater_prune.cc:74: tree pruning end, 1 roots, 16 extra nodes, 38 pruned nodes, max_depth=8\u001b[0m\n",
      "\u001b[34m[108]#011train-rmse:0.270646#011validation-rmse:0.321276\u001b[0m\n",
      "\u001b[34m[07:51:36] src/tree/updater_prune.cc:74: tree pruning end, 1 roots, 20 extra nodes, 52 pruned nodes, max_depth=8\u001b[0m\n",
      "\u001b[34m[109]#011train-rmse:0.269991#011validation-rmse:0.321069\u001b[0m\n",
      "\u001b[34m[07:51:38] src/tree/updater_prune.cc:74: tree pruning end, 1 roots, 20 extra nodes, 40 pruned nodes, max_depth=8\u001b[0m\n",
      "\u001b[34m[110]#011train-rmse:0.26942#011validation-rmse:0.320659\u001b[0m\n",
      "\u001b[34m[07:51:40] src/tree/updater_prune.cc:74: tree pruning end, 1 roots, 16 extra nodes, 44 pruned nodes, max_depth=8\u001b[0m\n",
      "\u001b[34m[111]#011train-rmse:0.269054#011validation-rmse:0.320437\u001b[0m\n",
      "\u001b[34m[07:51:43] src/tree/updater_prune.cc:74: tree pruning end, 1 roots, 16 extra nodes, 42 pruned nodes, max_depth=8\u001b[0m\n",
      "\u001b[34m[112]#011train-rmse:0.26863#011validation-rmse:0.320423\u001b[0m\n",
      "\u001b[34m[07:51:45] src/tree/updater_prune.cc:74: tree pruning end, 1 roots, 10 extra nodes, 26 pruned nodes, max_depth=5\u001b[0m\n",
      "\u001b[34m[113]#011train-rmse:0.268368#011validation-rmse:0.320302\u001b[0m\n",
      "\u001b[34m[07:51:48] src/tree/updater_prune.cc:74: tree pruning end, 1 roots, 16 extra nodes, 24 pruned nodes, max_depth=8\u001b[0m\n",
      "\u001b[34m[114]#011train-rmse:0.267944#011validation-rmse:0.320178\u001b[0m\n",
      "\u001b[34m[07:51:50] src/tree/updater_prune.cc:74: tree pruning end, 1 roots, 16 extra nodes, 34 pruned nodes, max_depth=8\u001b[0m\n",
      "\u001b[34m[115]#011train-rmse:0.267593#011validation-rmse:0.319867\u001b[0m\n",
      "\u001b[34m[07:51:53] src/tree/updater_prune.cc:74: tree pruning end, 1 roots, 16 extra nodes, 26 pruned nodes, max_depth=8\u001b[0m\n",
      "\u001b[34m[116]#011train-rmse:0.267176#011validation-rmse:0.319756\u001b[0m\n",
      "\u001b[34m[07:51:55] src/tree/updater_prune.cc:74: tree pruning end, 1 roots, 14 extra nodes, 24 pruned nodes, max_depth=7\u001b[0m\n",
      "\u001b[34m[117]#011train-rmse:0.2668#011validation-rmse:0.319604\u001b[0m\n",
      "\u001b[34m[07:51:58] src/tree/updater_prune.cc:74: tree pruning end, 1 roots, 6 extra nodes, 28 pruned nodes, max_depth=3\u001b[0m\n",
      "\u001b[34m[118]#011train-rmse:0.266636#011validation-rmse:0.319522\u001b[0m\n",
      "\u001b[34m[07:52:00] src/tree/updater_prune.cc:74: tree pruning end, 1 roots, 18 extra nodes, 50 pruned nodes, max_depth=8\u001b[0m\n",
      "\u001b[34m[119]#011train-rmse:0.266227#011validation-rmse:0.319584\u001b[0m\n",
      "\u001b[34m[07:52:03] src/tree/updater_prune.cc:74: tree pruning end, 1 roots, 16 extra nodes, 8 pruned nodes, max_depth=8\u001b[0m\n",
      "\u001b[34m[120]#011train-rmse:0.26582#011validation-rmse:0.319546\u001b[0m\n",
      "\u001b[34m[07:52:06] src/tree/updater_prune.cc:74: tree pruning end, 1 roots, 16 extra nodes, 30 pruned nodes, max_depth=8\u001b[0m\n",
      "\u001b[34m[121]#011train-rmse:0.265409#011validation-rmse:0.319393\u001b[0m\n",
      "\u001b[34m[07:52:09] src/tree/updater_prune.cc:74: tree pruning end, 1 roots, 14 extra nodes, 52 pruned nodes, max_depth=7\u001b[0m\n",
      "\u001b[34m[122]#011train-rmse:0.265177#011validation-rmse:0.319215\u001b[0m\n",
      "\u001b[34m[07:52:11] src/tree/updater_prune.cc:74: tree pruning end, 1 roots, 16 extra nodes, 22 pruned nodes, max_depth=8\u001b[0m\n",
      "\u001b[34m[123]#011train-rmse:0.264761#011validation-rmse:0.319108\u001b[0m\n",
      "\u001b[34m[07:52:14] src/tree/updater_prune.cc:74: tree pruning end, 1 roots, 16 extra nodes, 34 pruned nodes, max_depth=8\u001b[0m\n",
      "\u001b[34m[124]#011train-rmse:0.264387#011validation-rmse:0.318954\u001b[0m\n",
      "\u001b[34m[07:52:16] src/tree/updater_prune.cc:74: tree pruning end, 1 roots, 12 extra nodes, 32 pruned nodes, max_depth=6\u001b[0m\n",
      "\u001b[34m[125]#011train-rmse:0.264096#011validation-rmse:0.318825\u001b[0m\n",
      "\u001b[34m[07:52:19] src/tree/updater_prune.cc:74: tree pruning end, 1 roots, 22 extra nodes, 56 pruned nodes, max_depth=8\u001b[0m\n",
      "\u001b[34m[126]#011train-rmse:0.263466#011validation-rmse:0.31857\u001b[0m\n",
      "\u001b[34m[07:52:21] src/tree/updater_prune.cc:74: tree pruning end, 1 roots, 18 extra nodes, 42 pruned nodes, max_depth=8\u001b[0m\n",
      "\u001b[34m[127]#011train-rmse:0.263076#011validation-rmse:0.318544\u001b[0m\n",
      "\u001b[34m[07:52:24] src/tree/updater_prune.cc:74: tree pruning end, 1 roots, 18 extra nodes, 16 pruned nodes, max_depth=8\u001b[0m\n",
      "\u001b[34m[128]#011train-rmse:0.262656#011validation-rmse:0.318199\u001b[0m\n",
      "\u001b[34m[07:52:26] src/tree/updater_prune.cc:74: tree pruning end, 1 roots, 28 extra nodes, 60 pruned nodes, max_depth=8\u001b[0m\n",
      "\u001b[34m[129]#011train-rmse:0.262034#011validation-rmse:0.317861\u001b[0m\n",
      "\u001b[34m[07:52:29] src/tree/updater_prune.cc:74: tree pruning end, 1 roots, 10 extra nodes, 24 pruned nodes, max_depth=5\u001b[0m\n",
      "\u001b[34m[130]#011train-rmse:0.261812#011validation-rmse:0.317705\u001b[0m\n",
      "\u001b[34m[07:52:31] src/tree/updater_prune.cc:74: tree pruning end, 1 roots, 16 extra nodes, 52 pruned nodes, max_depth=8\u001b[0m\n",
      "\u001b[34m[131]#011train-rmse:0.261411#011validation-rmse:0.317593\u001b[0m\n",
      "\u001b[34m[07:52:34] src/tree/updater_prune.cc:74: tree pruning end, 1 roots, 10 extra nodes, 62 pruned nodes, max_depth=5\u001b[0m\n",
      "\u001b[34m[132]#011train-rmse:0.261116#011validation-rmse:0.317402\u001b[0m\n",
      "\u001b[34m[07:52:36] src/tree/updater_prune.cc:74: tree pruning end, 1 roots, 22 extra nodes, 36 pruned nodes, max_depth=8\u001b[0m\n",
      "\u001b[34m[133]#011train-rmse:0.260519#011validation-rmse:0.317445\u001b[0m\n",
      "\u001b[34m[07:52:39] src/tree/updater_prune.cc:74: tree pruning end, 1 roots, 16 extra nodes, 18 pruned nodes, max_depth=8\u001b[0m\n",
      "\u001b[34m[134]#011train-rmse:0.260176#011validation-rmse:0.317381\u001b[0m\n",
      "\u001b[34m[07:52:41] src/tree/updater_prune.cc:74: tree pruning end, 1 roots, 12 extra nodes, 70 pruned nodes, max_depth=6\u001b[0m\n",
      "\u001b[34m[135]#011train-rmse:0.259847#011validation-rmse:0.317196\u001b[0m\n",
      "\u001b[34m[07:52:44] src/tree/updater_prune.cc:74: tree pruning end, 1 roots, 18 extra nodes, 22 pruned nodes, max_depth=8\u001b[0m\n",
      "\u001b[34m[136]#011train-rmse:0.259362#011validation-rmse:0.317028\u001b[0m\n",
      "\u001b[34m[07:52:46] src/tree/updater_prune.cc:74: tree pruning end, 1 roots, 16 extra nodes, 48 pruned nodes, max_depth=8\u001b[0m\n",
      "\u001b[34m[137]#011train-rmse:0.259111#011validation-rmse:0.316839\u001b[0m\n",
      "\u001b[34m[07:52:49] src/tree/updater_prune.cc:74: tree pruning end, 1 roots, 18 extra nodes, 38 pruned nodes, max_depth=8\u001b[0m\n",
      "\u001b[34m[138]#011train-rmse:0.258775#011validation-rmse:0.316732\u001b[0m\n",
      "\u001b[34m[07:52:51] src/tree/updater_prune.cc:74: tree pruning end, 1 roots, 16 extra nodes, 30 pruned nodes, max_depth=8\u001b[0m\n",
      "\u001b[34m[139]#011train-rmse:0.258453#011validation-rmse:0.316487\u001b[0m\n",
      "\u001b[34m[07:52:53] src/tree/updater_prune.cc:74: tree pruning end, 1 roots, 8 extra nodes, 46 pruned nodes, max_depth=4\u001b[0m\n",
      "\u001b[34m[140]#011train-rmse:0.258233#011validation-rmse:0.316414\u001b[0m\n",
      "\u001b[34m[07:52:56] src/tree/updater_prune.cc:74: tree pruning end, 1 roots, 8 extra nodes, 52 pruned nodes, max_depth=4\u001b[0m\n",
      "\u001b[34m[141]#011train-rmse:0.258088#011validation-rmse:0.316257\u001b[0m\n",
      "\u001b[34m[07:52:59] src/tree/updater_prune.cc:74: tree pruning end, 1 roots, 4 extra nodes, 38 pruned nodes, max_depth=2\u001b[0m\n",
      "\u001b[34m[142]#011train-rmse:0.258003#011validation-rmse:0.316195\u001b[0m\n",
      "\u001b[34m[07:53:01] src/tree/updater_prune.cc:74: tree pruning end, 1 roots, 14 extra nodes, 34 pruned nodes, max_depth=7\u001b[0m\n",
      "\u001b[34m[143]#011train-rmse:0.257739#011validation-rmse:0.31614\u001b[0m\n",
      "\u001b[34m[07:53:04] src/tree/updater_prune.cc:74: tree pruning end, 1 roots, 14 extra nodes, 30 pruned nodes, max_depth=7\u001b[0m\n",
      "\u001b[34m[144]#011train-rmse:0.257484#011validation-rmse:0.315978\u001b[0m\n",
      "\u001b[34m[07:53:07] src/tree/updater_prune.cc:74: tree pruning end, 1 roots, 12 extra nodes, 58 pruned nodes, max_depth=5\u001b[0m\n",
      "\u001b[34m[145]#011train-rmse:0.257173#011validation-rmse:0.315933\u001b[0m\n",
      "\u001b[34m[07:53:09] src/tree/updater_prune.cc:74: tree pruning end, 1 roots, 0 extra nodes, 44 pruned nodes, max_depth=0\u001b[0m\n",
      "\u001b[34m[146]#011train-rmse:0.257174#011validation-rmse:0.315933\u001b[0m\n",
      "\u001b[34m[07:53:12] src/tree/updater_prune.cc:74: tree pruning end, 1 roots, 14 extra nodes, 32 pruned nodes, max_depth=7\u001b[0m\n",
      "\u001b[34m[147]#011train-rmse:0.256949#011validation-rmse:0.315791\u001b[0m\n",
      "\u001b[34m[07:53:14] src/tree/updater_prune.cc:74: tree pruning end, 1 roots, 2 extra nodes, 32 pruned nodes, max_depth=1\u001b[0m\n",
      "\u001b[34m[148]#011train-rmse:0.256918#011validation-rmse:0.31577\u001b[0m\n",
      "\u001b[34m[07:53:17] src/tree/updater_prune.cc:74: tree pruning end, 1 roots, 18 extra nodes, 44 pruned nodes, max_depth=8\u001b[0m\n",
      "\u001b[34m[149]#011train-rmse:0.256456#011validation-rmse:0.315552\u001b[0m\n",
      "\u001b[34m[07:53:19] src/tree/updater_prune.cc:74: tree pruning end, 1 roots, 16 extra nodes, 34 pruned nodes, max_depth=7\u001b[0m\n",
      "\u001b[34m[150]#011train-rmse:0.2561#011validation-rmse:0.315487\u001b[0m\n",
      "\u001b[34m[07:53:22] src/tree/updater_prune.cc:74: tree pruning end, 1 roots, 10 extra nodes, 56 pruned nodes, max_depth=5\u001b[0m\n",
      "\u001b[34m[151]#011train-rmse:0.255868#011validation-rmse:0.315343\u001b[0m\n",
      "\u001b[34m[07:53:24] src/tree/updater_prune.cc:74: tree pruning end, 1 roots, 10 extra nodes, 44 pruned nodes, max_depth=5\u001b[0m\n",
      "\u001b[34m[152]#011train-rmse:0.255634#011validation-rmse:0.315119\u001b[0m\n",
      "\u001b[34m[07:53:27] src/tree/updater_prune.cc:74: tree pruning end, 1 roots, 10 extra nodes, 58 pruned nodes, max_depth=5\u001b[0m\n",
      "\u001b[34m[153]#011train-rmse:0.25545#011validation-rmse:0.314999\u001b[0m\n",
      "\u001b[34m[07:53:29] src/tree/updater_prune.cc:74: tree pruning end, 1 roots, 14 extra nodes, 36 pruned nodes, max_depth=6\u001b[0m\n",
      "\u001b[34m[154]#011train-rmse:0.255187#011validation-rmse:0.314889\u001b[0m\n",
      "\u001b[34m[07:53:32] src/tree/updater_prune.cc:74: tree pruning end, 1 roots, 12 extra nodes, 82 pruned nodes, max_depth=5\u001b[0m\n",
      "\u001b[34m[155]#011train-rmse:0.254989#011validation-rmse:0.314788\u001b[0m\n",
      "\u001b[34m[07:53:34] src/tree/updater_prune.cc:74: tree pruning end, 1 roots, 16 extra nodes, 22 pruned nodes, max_depth=8\u001b[0m\n",
      "\u001b[34m[156]#011train-rmse:0.254644#011validation-rmse:0.314465\u001b[0m\n",
      "\u001b[34m[07:53:37] src/tree/updater_prune.cc:74: tree pruning end, 1 roots, 4 extra nodes, 28 pruned nodes, max_depth=2\u001b[0m\n",
      "\u001b[34m[157]#011train-rmse:0.254574#011validation-rmse:0.314527\u001b[0m\n",
      "\u001b[34m[07:53:39] src/tree/updater_prune.cc:74: tree pruning end, 1 roots, 0 extra nodes, 48 pruned nodes, max_depth=0\u001b[0m\n",
      "\u001b[34m[158]#011train-rmse:0.254567#011validation-rmse:0.314522\u001b[0m\n",
      "\u001b[34m[07:53:42] src/tree/updater_prune.cc:74: tree pruning end, 1 roots, 6 extra nodes, 54 pruned nodes, max_depth=3\u001b[0m\n",
      "\u001b[34m[159]#011train-rmse:0.254395#011validation-rmse:0.314555\u001b[0m\n",
      "\u001b[34m[07:53:44] src/tree/updater_prune.cc:74: tree pruning end, 1 roots, 2 extra nodes, 36 pruned nodes, max_depth=1\u001b[0m\n",
      "\u001b[34m[160]#011train-rmse:0.254348#011validation-rmse:0.314571\u001b[0m\n",
      "\u001b[34m[07:53:47] src/tree/updater_prune.cc:74: tree pruning end, 1 roots, 20 extra nodes, 32 pruned nodes, max_depth=8\u001b[0m\n",
      "\u001b[34m[161]#011train-rmse:0.253872#011validation-rmse:0.31431\u001b[0m\n",
      "\u001b[34m[07:53:49] src/tree/updater_prune.cc:74: tree pruning end, 1 roots, 2 extra nodes, 34 pruned nodes, max_depth=1\u001b[0m\n",
      "\u001b[34m[162]#011train-rmse:0.253853#011validation-rmse:0.31417\u001b[0m\n",
      "\u001b[34m[07:53:52] src/tree/updater_prune.cc:74: tree pruning end, 1 roots, 0 extra nodes, 58 pruned nodes, max_depth=0\u001b[0m\n",
      "\u001b[34m[163]#011train-rmse:0.25385#011validation-rmse:0.314168\u001b[0m\n",
      "\u001b[34m[07:53:54] src/tree/updater_prune.cc:74: tree pruning end, 1 roots, 4 extra nodes, 30 pruned nodes, max_depth=2\u001b[0m\n",
      "\u001b[34m[164]#011train-rmse:0.253746#011validation-rmse:0.31414\u001b[0m\n",
      "\u001b[34m[07:53:57] src/tree/updater_prune.cc:74: tree pruning end, 1 roots, 10 extra nodes, 50 pruned nodes, max_depth=5\u001b[0m\n",
      "\u001b[34m[165]#011train-rmse:0.253555#011validation-rmse:0.314133\u001b[0m\n",
      "\u001b[34m[07:53:59] src/tree/updater_prune.cc:74: tree pruning end, 1 roots, 8 extra nodes, 22 pruned nodes, max_depth=4\u001b[0m\n",
      "\u001b[34m[166]#011train-rmse:0.253411#011validation-rmse:0.314094\u001b[0m\n",
      "\u001b[34m[07:54:02] src/tree/updater_prune.cc:74: tree pruning end, 1 roots, 2 extra nodes, 70 pruned nodes, max_depth=1\u001b[0m\n",
      "\u001b[34m[167]#011train-rmse:0.253356#011validation-rmse:0.314065\u001b[0m\n",
      "\u001b[34m[07:54:05] src/tree/updater_prune.cc:74: tree pruning end, 1 roots, 6 extra nodes, 56 pruned nodes, max_depth=3\u001b[0m\n",
      "\u001b[34m[168]#011train-rmse:0.253251#011validation-rmse:0.314037\u001b[0m\n",
      "\u001b[34m[07:54:08] src/tree/updater_prune.cc:74: tree pruning end, 1 roots, 2 extra nodes, 22 pruned nodes, max_depth=1\u001b[0m\n",
      "\u001b[34m[169]#011train-rmse:0.253201#011validation-rmse:0.313994\u001b[0m\n",
      "\u001b[34m[07:54:10] src/tree/updater_prune.cc:74: tree pruning end, 1 roots, 10 extra nodes, 54 pruned nodes, max_depth=5\u001b[0m\n",
      "\u001b[34m[170]#011train-rmse:0.253054#011validation-rmse:0.31403\u001b[0m\n",
      "\u001b[34m[07:54:13] src/tree/updater_prune.cc:74: tree pruning end, 1 roots, 2 extra nodes, 28 pruned nodes, max_depth=1\u001b[0m\n",
      "\u001b[34m[171]#011train-rmse:0.253016#011validation-rmse:0.314066\u001b[0m\n",
      "\u001b[34m[07:54:15] src/tree/updater_prune.cc:74: tree pruning end, 1 roots, 16 extra nodes, 40 pruned nodes, max_depth=8\u001b[0m\n",
      "\u001b[34m[172]#011train-rmse:0.252677#011validation-rmse:0.314057\u001b[0m\n",
      "\u001b[34m[07:54:18] src/tree/updater_prune.cc:74: tree pruning end, 1 roots, 0 extra nodes, 18 pruned nodes, max_depth=0\u001b[0m\n",
      "\u001b[34m[173]#011train-rmse:0.252672#011validation-rmse:0.314053\u001b[0m\n",
      "\u001b[34m[07:54:20] src/tree/updater_prune.cc:74: tree pruning end, 1 roots, 14 extra nodes, 28 pruned nodes, max_depth=7\u001b[0m\n",
      "\u001b[34m[174]#011train-rmse:0.252413#011validation-rmse:0.314005\u001b[0m\n",
      "\u001b[34m[07:54:22] src/tree/updater_prune.cc:74: tree pruning end, 1 roots, 8 extra nodes, 46 pruned nodes, max_depth=4\u001b[0m\n",
      "\u001b[34m[175]#011train-rmse:0.252221#011validation-rmse:0.313923\u001b[0m\n",
      "\u001b[34m[07:54:25] src/tree/updater_prune.cc:74: tree pruning end, 1 roots, 16 extra nodes, 18 pruned nodes, max_depth=8\u001b[0m\n",
      "\u001b[34m[176]#011train-rmse:0.251895#011validation-rmse:0.313675\u001b[0m\n",
      "\u001b[34m[07:54:28] src/tree/updater_prune.cc:74: tree pruning end, 1 roots, 0 extra nodes, 32 pruned nodes, max_depth=0\u001b[0m\n",
      "\u001b[34m[177]#011train-rmse:0.25189#011validation-rmse:0.313671\u001b[0m\n",
      "\u001b[34m[07:54:30] src/tree/updater_prune.cc:74: tree pruning end, 1 roots, 0 extra nodes, 44 pruned nodes, max_depth=0\u001b[0m\n",
      "\u001b[34m[178]#011train-rmse:0.251898#011validation-rmse:0.313678\u001b[0m\n",
      "\u001b[34m[07:54:33] src/tree/updater_prune.cc:74: tree pruning end, 1 roots, 20 extra nodes, 26 pruned nodes, max_depth=7\u001b[0m\n",
      "\u001b[34m[179]#011train-rmse:0.251374#011validation-rmse:0.31359\u001b[0m\n",
      "\u001b[34m[07:54:35] src/tree/updater_prune.cc:74: tree pruning end, 1 roots, 10 extra nodes, 50 pruned nodes, max_depth=5\u001b[0m\n",
      "\u001b[34m[180]#011train-rmse:0.25117#011validation-rmse:0.313442\u001b[0m\n",
      "\u001b[34m[07:54:38] src/tree/updater_prune.cc:74: tree pruning end, 1 roots, 6 extra nodes, 30 pruned nodes, max_depth=3\u001b[0m\n",
      "\u001b[34m[181]#011train-rmse:0.251048#011validation-rmse:0.313447\u001b[0m\n",
      "\u001b[34m[07:54:40] src/tree/updater_prune.cc:74: tree pruning end, 1 roots, 0 extra nodes, 52 pruned nodes, max_depth=0\u001b[0m\n",
      "\u001b[34m[182]#011train-rmse:0.251046#011validation-rmse:0.313446\u001b[0m\n",
      "\u001b[34m[07:54:43] src/tree/updater_prune.cc:74: tree pruning end, 1 roots, 10 extra nodes, 42 pruned nodes, max_depth=4\u001b[0m\n",
      "\u001b[34m[183]#011train-rmse:0.250791#011validation-rmse:0.313331\u001b[0m\n",
      "\u001b[34m[07:54:45] src/tree/updater_prune.cc:74: tree pruning end, 1 roots, 4 extra nodes, 52 pruned nodes, max_depth=2\u001b[0m\n",
      "\u001b[34m[184]#011train-rmse:0.250701#011validation-rmse:0.313437\u001b[0m\n",
      "\u001b[34m[07:54:48] src/tree/updater_prune.cc:74: tree pruning end, 1 roots, 2 extra nodes, 36 pruned nodes, max_depth=1\u001b[0m\n",
      "\u001b[34m[185]#011train-rmse:0.250677#011validation-rmse:0.313366\u001b[0m\n",
      "\u001b[34m[07:54:50] src/tree/updater_prune.cc:74: tree pruning end, 1 roots, 12 extra nodes, 24 pruned nodes, max_depth=6\u001b[0m\n",
      "\u001b[34m[186]#011train-rmse:0.250446#011validation-rmse:0.313433\u001b[0m\n",
      "\u001b[34m[07:54:53] src/tree/updater_prune.cc:74: tree pruning end, 1 roots, 2 extra nodes, 40 pruned nodes, max_depth=1\u001b[0m\n",
      "\u001b[34m[187]#011train-rmse:0.250411#011validation-rmse:0.313454\u001b[0m\n",
      "\u001b[34m[07:54:55] src/tree/updater_prune.cc:74: tree pruning end, 1 roots, 4 extra nodes, 34 pruned nodes, max_depth=2\u001b[0m\n",
      "\u001b[34m[188]#011train-rmse:0.250342#011validation-rmse:0.313419\u001b[0m\n",
      "\u001b[34m[07:54:58] src/tree/updater_prune.cc:74: tree pruning end, 1 roots, 16 extra nodes, 38 pruned nodes, max_depth=7\u001b[0m\n",
      "\u001b[34m[189]#011train-rmse:0.250093#011validation-rmse:0.31319\u001b[0m\n",
      "\u001b[34m[07:55:00] src/tree/updater_prune.cc:74: tree pruning end, 1 roots, 14 extra nodes, 22 pruned nodes, max_depth=7\u001b[0m\n",
      "\u001b[34m[190]#011train-rmse:0.249778#011validation-rmse:0.313089\u001b[0m\n",
      "\u001b[34m[07:55:03] src/tree/updater_prune.cc:74: tree pruning end, 1 roots, 6 extra nodes, 56 pruned nodes, max_depth=3\u001b[0m\n",
      "\u001b[34m[191]#011train-rmse:0.249666#011validation-rmse:0.313105\u001b[0m\n",
      "\u001b[34m[07:55:06] src/tree/updater_prune.cc:74: tree pruning end, 1 roots, 2 extra nodes, 58 pruned nodes, max_depth=1\u001b[0m\n",
      "\u001b[34m[192]#011train-rmse:0.249627#011validation-rmse:0.313077\u001b[0m\n",
      "\u001b[34m[07:55:08] src/tree/updater_prune.cc:74: tree pruning end, 1 roots, 4 extra nodes, 22 pruned nodes, max_depth=2\u001b[0m\n",
      "\u001b[34m[193]#011train-rmse:0.249563#011validation-rmse:0.313056\u001b[0m\n",
      "\u001b[34m[07:55:11] src/tree/updater_prune.cc:74: tree pruning end, 1 roots, 0 extra nodes, 60 pruned nodes, max_depth=0\u001b[0m\n",
      "\u001b[34m[194]#011train-rmse:0.249555#011validation-rmse:0.31305\u001b[0m\n",
      "\u001b[34m[07:55:13] src/tree/updater_prune.cc:74: tree pruning end, 1 roots, 2 extra nodes, 34 pruned nodes, max_depth=1\u001b[0m\n",
      "\u001b[34m[195]#011train-rmse:0.249562#011validation-rmse:0.313076\u001b[0m\n",
      "\u001b[34m[07:55:16] src/tree/updater_prune.cc:74: tree pruning end, 1 roots, 0 extra nodes, 40 pruned nodes, max_depth=0\u001b[0m\n",
      "\u001b[34m[196]#011train-rmse:0.24956#011validation-rmse:0.313074\u001b[0m\n",
      "\u001b[34m[07:55:18] src/tree/updater_prune.cc:74: tree pruning end, 1 roots, 8 extra nodes, 62 pruned nodes, max_depth=4\u001b[0m\n",
      "\u001b[34m[197]#011train-rmse:0.249387#011validation-rmse:0.3131\u001b[0m\n",
      "\u001b[34m[07:55:21] src/tree/updater_prune.cc:74: tree pruning end, 1 roots, 0 extra nodes, 42 pruned nodes, max_depth=0\u001b[0m\n",
      "\u001b[34m[198]#011train-rmse:0.249389#011validation-rmse:0.313102\u001b[0m\n",
      "\u001b[34m[07:55:23] src/tree/updater_prune.cc:74: tree pruning end, 1 roots, 8 extra nodes, 64 pruned nodes, max_depth=3\u001b[0m\n",
      "\u001b[34m[199]#011train-rmse:0.24927#011validation-rmse:0.313125\u001b[0m\n",
      "\u001b[34m[07:55:26] src/tree/updater_prune.cc:74: tree pruning end, 1 roots, 0 extra nodes, 32 pruned nodes, max_depth=0\u001b[0m\n",
      "\u001b[34m[200]#011train-rmse:0.249273#011validation-rmse:0.313127\u001b[0m\n",
      "\u001b[34m[07:55:29] src/tree/updater_prune.cc:74: tree pruning end, 1 roots, 2 extra nodes, 40 pruned nodes, max_depth=1\u001b[0m\n",
      "\u001b[34m[201]#011train-rmse:0.249222#011validation-rmse:0.313085\u001b[0m\n",
      "\u001b[34m[07:55:31] src/tree/updater_prune.cc:74: tree pruning end, 1 roots, 12 extra nodes, 34 pruned nodes, max_depth=6\u001b[0m\n",
      "\u001b[34m[202]#011train-rmse:0.249003#011validation-rmse:0.312875\u001b[0m\n",
      "\u001b[34m[07:55:33] src/tree/updater_prune.cc:74: tree pruning end, 1 roots, 4 extra nodes, 20 pruned nodes, max_depth=2\u001b[0m\n",
      "\u001b[34m[203]#011train-rmse:0.248893#011validation-rmse:0.312873\u001b[0m\n",
      "\u001b[34m[07:55:36] src/tree/updater_prune.cc:74: tree pruning end, 1 roots, 12 extra nodes, 48 pruned nodes, max_depth=6\u001b[0m\n",
      "\u001b[34m[204]#011train-rmse:0.248678#011validation-rmse:0.31279\u001b[0m\n",
      "\u001b[34m[07:55:38] src/tree/updater_prune.cc:74: tree pruning end, 1 roots, 2 extra nodes, 50 pruned nodes, max_depth=1\u001b[0m\n",
      "\u001b[34m[205]#011train-rmse:0.248655#011validation-rmse:0.312709\u001b[0m\n",
      "\u001b[34m[07:55:41] src/tree/updater_prune.cc:74: tree pruning end, 1 roots, 16 extra nodes, 40 pruned nodes, max_depth=8\u001b[0m\n",
      "\u001b[34m[206]#011train-rmse:0.248303#011validation-rmse:0.312705\u001b[0m\n",
      "\u001b[34m[07:55:43] src/tree/updater_prune.cc:74: tree pruning end, 1 roots, 0 extra nodes, 34 pruned nodes, max_depth=0\u001b[0m\n",
      "\u001b[34m[207]#011train-rmse:0.248313#011validation-rmse:0.312713\u001b[0m\n",
      "\u001b[34m[07:55:46] src/tree/updater_prune.cc:74: tree pruning end, 1 roots, 18 extra nodes, 32 pruned nodes, max_depth=8\u001b[0m\n",
      "\u001b[34m[208]#011train-rmse:0.248015#011validation-rmse:0.312542\u001b[0m\n",
      "\u001b[34m[07:55:48] src/tree/updater_prune.cc:74: tree pruning end, 1 roots, 0 extra nodes, 58 pruned nodes, max_depth=0\u001b[0m\n",
      "\u001b[34m[209]#011train-rmse:0.248#011validation-rmse:0.312531\u001b[0m\n",
      "\u001b[34m[07:55:51] src/tree/updater_prune.cc:74: tree pruning end, 1 roots, 10 extra nodes, 60 pruned nodes, max_depth=5\u001b[0m\n",
      "\u001b[34m[210]#011train-rmse:0.247825#011validation-rmse:0.312486\u001b[0m\n",
      "\u001b[34m[07:55:53] src/tree/updater_prune.cc:74: tree pruning end, 1 roots, 4 extra nodes, 30 pruned nodes, max_depth=2\u001b[0m\n",
      "\u001b[34m[211]#011train-rmse:0.247756#011validation-rmse:0.312479\u001b[0m\n",
      "\u001b[34m[07:55:56] src/tree/updater_prune.cc:74: tree pruning end, 1 roots, 8 extra nodes, 42 pruned nodes, max_depth=3\u001b[0m\n",
      "\u001b[34m[212]#011train-rmse:0.24757#011validation-rmse:0.312354\u001b[0m\n",
      "\u001b[34m[07:55:58] src/tree/updater_prune.cc:74: tree pruning end, 1 roots, 4 extra nodes, 46 pruned nodes, max_depth=2\u001b[0m\n",
      "\u001b[34m[213]#011train-rmse:0.247505#011validation-rmse:0.312416\u001b[0m\n",
      "\u001b[34m[07:56:01] src/tree/updater_prune.cc:74: tree pruning end, 1 roots, 0 extra nodes, 56 pruned nodes, max_depth=0\u001b[0m\n",
      "\u001b[34m[214]#011train-rmse:0.247505#011validation-rmse:0.312416\u001b[0m\n",
      "\u001b[34m[07:56:04] src/tree/updater_prune.cc:74: tree pruning end, 1 roots, 4 extra nodes, 46 pruned nodes, max_depth=2\u001b[0m\n",
      "\u001b[34m[215]#011train-rmse:0.247429#011validation-rmse:0.31238\u001b[0m\n",
      "\u001b[34m[07:56:07] src/tree/updater_prune.cc:74: tree pruning end, 1 roots, 16 extra nodes, 36 pruned nodes, max_depth=8\u001b[0m\n",
      "\u001b[34m[216]#011train-rmse:0.247137#011validation-rmse:0.312385\u001b[0m\n",
      "\u001b[34m[07:56:09] src/tree/updater_prune.cc:74: tree pruning end, 1 roots, 2 extra nodes, 24 pruned nodes, max_depth=1\u001b[0m\n",
      "\u001b[34m[217]#011train-rmse:0.247108#011validation-rmse:0.312433\u001b[0m\n",
      "\u001b[34m[07:56:11] src/tree/updater_prune.cc:74: tree pruning end, 1 roots, 2 extra nodes, 38 pruned nodes, max_depth=1\u001b[0m\n",
      "\u001b[34m[218]#011train-rmse:0.247104#011validation-rmse:0.312405\u001b[0m\n",
      "\u001b[34m[07:56:14] src/tree/updater_prune.cc:74: tree pruning end, 1 roots, 16 extra nodes, 12 pruned nodes, max_depth=8\u001b[0m\n",
      "\u001b[34m[219]#011train-rmse:0.246858#011validation-rmse:0.312194\u001b[0m\n",
      "\u001b[34m[07:56:16] src/tree/updater_prune.cc:74: tree pruning end, 1 roots, 0 extra nodes, 40 pruned nodes, max_depth=0\u001b[0m\n",
      "\u001b[34m[220]#011train-rmse:0.246851#011validation-rmse:0.312188\u001b[0m\n",
      "\u001b[34m[07:56:19] src/tree/updater_prune.cc:74: tree pruning end, 1 roots, 2 extra nodes, 44 pruned nodes, max_depth=1\u001b[0m\n",
      "\u001b[34m[221]#011train-rmse:0.246799#011validation-rmse:0.312217\u001b[0m\n",
      "\u001b[34m[07:56:21] src/tree/updater_prune.cc:74: tree pruning end, 1 roots, 0 extra nodes, 28 pruned nodes, max_depth=0\u001b[0m\n",
      "\u001b[34m[222]#011train-rmse:0.246797#011validation-rmse:0.312216\u001b[0m\n",
      "\u001b[34m[07:56:24] src/tree/updater_prune.cc:74: tree pruning end, 1 roots, 2 extra nodes, 42 pruned nodes, max_depth=1\u001b[0m\n",
      "\u001b[34m[223]#011train-rmse:0.246754#011validation-rmse:0.312222\u001b[0m\n",
      "\u001b[34m[07:56:26] src/tree/updater_prune.cc:74: tree pruning end, 1 roots, 8 extra nodes, 42 pruned nodes, max_depth=4\u001b[0m\n",
      "\u001b[34m[224]#011train-rmse:0.246581#011validation-rmse:0.312041\u001b[0m\n",
      "\u001b[34m[07:56:29] src/tree/updater_prune.cc:74: tree pruning end, 1 roots, 2 extra nodes, 30 pruned nodes, max_depth=1\u001b[0m\n",
      "\u001b[34m[225]#011train-rmse:0.246553#011validation-rmse:0.312042\u001b[0m\n",
      "\u001b[34m[07:56:31] src/tree/updater_prune.cc:74: tree pruning end, 1 roots, 2 extra nodes, 26 pruned nodes, max_depth=1\u001b[0m\n",
      "\u001b[34m[226]#011train-rmse:0.246525#011validation-rmse:0.312018\u001b[0m\n",
      "\u001b[34m[07:56:34] src/tree/updater_prune.cc:74: tree pruning end, 1 roots, 2 extra nodes, 38 pruned nodes, max_depth=1\u001b[0m\n",
      "\u001b[34m[227]#011train-rmse:0.246469#011validation-rmse:0.311933\u001b[0m\n",
      "\u001b[34m[07:56:36] src/tree/updater_prune.cc:74: tree pruning end, 1 roots, 2 extra nodes, 30 pruned nodes, max_depth=1\u001b[0m\n",
      "\u001b[34m[228]#011train-rmse:0.246421#011validation-rmse:0.311862\u001b[0m\n",
      "\u001b[34m[07:56:39] src/tree/updater_prune.cc:74: tree pruning end, 1 roots, 6 extra nodes, 50 pruned nodes, max_depth=3\u001b[0m\n",
      "\u001b[34m[229]#011train-rmse:0.246345#011validation-rmse:0.311755\u001b[0m\n",
      "\u001b[34m[07:56:41] src/tree/updater_prune.cc:74: tree pruning end, 1 roots, 6 extra nodes, 32 pruned nodes, max_depth=3\u001b[0m\n",
      "\u001b[34m[230]#011train-rmse:0.246224#011validation-rmse:0.311793\u001b[0m\n",
      "\u001b[34m[07:56:44] src/tree/updater_prune.cc:74: tree pruning end, 1 roots, 4 extra nodes, 44 pruned nodes, max_depth=2\u001b[0m\n",
      "\u001b[34m[231]#011train-rmse:0.246163#011validation-rmse:0.31169\u001b[0m\n",
      "\u001b[34m[07:56:46] src/tree/updater_prune.cc:74: tree pruning end, 1 roots, 6 extra nodes, 78 pruned nodes, max_depth=3\u001b[0m\n",
      "\u001b[34m[232]#011train-rmse:0.246056#011validation-rmse:0.311534\u001b[0m\n",
      "\u001b[34m[07:56:49] src/tree/updater_prune.cc:74: tree pruning end, 1 roots, 14 extra nodes, 56 pruned nodes, max_depth=7\u001b[0m\n",
      "\u001b[34m[233]#011train-rmse:0.24582#011validation-rmse:0.311415\u001b[0m\n",
      "\u001b[34m[07:56:51] src/tree/updater_prune.cc:74: tree pruning end, 1 roots, 0 extra nodes, 24 pruned nodes, max_depth=0\u001b[0m\n",
      "\u001b[34m[234]#011train-rmse:0.245814#011validation-rmse:0.31141\u001b[0m\n",
      "\u001b[34m[07:56:54] src/tree/updater_prune.cc:74: tree pruning end, 1 roots, 2 extra nodes, 66 pruned nodes, max_depth=1\u001b[0m\n",
      "\u001b[34m[235]#011train-rmse:0.245787#011validation-rmse:0.311421\u001b[0m\n",
      "\u001b[34m[07:56:56] src/tree/updater_prune.cc:74: tree pruning end, 1 roots, 12 extra nodes, 28 pruned nodes, max_depth=6\u001b[0m\n",
      "\u001b[34m[236]#011train-rmse:0.245555#011validation-rmse:0.311404\u001b[0m\n",
      "\u001b[34m[07:56:59] src/tree/updater_prune.cc:74: tree pruning end, 1 roots, 4 extra nodes, 38 pruned nodes, max_depth=2\u001b[0m\n",
      "\u001b[34m[237]#011train-rmse:0.245484#011validation-rmse:0.311344\u001b[0m\n",
      "\u001b[34m[07:57:01] src/tree/updater_prune.cc:74: tree pruning end, 1 roots, 10 extra nodes, 42 pruned nodes, max_depth=5\u001b[0m\n",
      "\u001b[34m[238]#011train-rmse:0.245322#011validation-rmse:0.311263\u001b[0m\n",
      "\u001b[34m[07:57:04] src/tree/updater_prune.cc:74: tree pruning end, 1 roots, 2 extra nodes, 32 pruned nodes, max_depth=1\u001b[0m\n",
      "\u001b[34m[239]#011train-rmse:0.245305#011validation-rmse:0.311225\u001b[0m\n",
      "\u001b[34m[07:57:07] src/tree/updater_prune.cc:74: tree pruning end, 1 roots, 0 extra nodes, 34 pruned nodes, max_depth=0\u001b[0m\n",
      "\u001b[34m[240]#011train-rmse:0.245304#011validation-rmse:0.311224\u001b[0m\n",
      "\u001b[34m[07:57:09] src/tree/updater_prune.cc:74: tree pruning end, 1 roots, 10 extra nodes, 44 pruned nodes, max_depth=5\u001b[0m\n",
      "\u001b[34m[241]#011train-rmse:0.245125#011validation-rmse:0.311061\u001b[0m\n",
      "\u001b[34m[07:57:12] src/tree/updater_prune.cc:74: tree pruning end, 1 roots, 0 extra nodes, 42 pruned nodes, max_depth=0\u001b[0m\n",
      "\u001b[34m[242]#011train-rmse:0.245124#011validation-rmse:0.31106\u001b[0m\n",
      "\u001b[34m[07:57:14] src/tree/updater_prune.cc:74: tree pruning end, 1 roots, 0 extra nodes, 54 pruned nodes, max_depth=0\u001b[0m\n",
      "\u001b[34m[243]#011train-rmse:0.245134#011validation-rmse:0.311068\u001b[0m\n",
      "\u001b[34m[07:57:17] src/tree/updater_prune.cc:74: tree pruning end, 1 roots, 2 extra nodes, 46 pruned nodes, max_depth=1\u001b[0m\n",
      "\u001b[34m[244]#011train-rmse:0.245096#011validation-rmse:0.311025\u001b[0m\n",
      "\u001b[34m[07:57:19] src/tree/updater_prune.cc:74: tree pruning end, 1 roots, 0 extra nodes, 34 pruned nodes, max_depth=0\u001b[0m\n",
      "\u001b[34m[245]#011train-rmse:0.245094#011validation-rmse:0.311024\u001b[0m\n",
      "\u001b[34m[07:57:22] src/tree/updater_prune.cc:74: tree pruning end, 1 roots, 14 extra nodes, 26 pruned nodes, max_depth=7\u001b[0m\n",
      "\u001b[34m[246]#011train-rmse:0.244835#011validation-rmse:0.310918\u001b[0m\n",
      "\u001b[34m[07:57:24] src/tree/updater_prune.cc:74: tree pruning end, 1 roots, 4 extra nodes, 50 pruned nodes, max_depth=2\u001b[0m\n",
      "\u001b[34m[247]#011train-rmse:0.244785#011validation-rmse:0.310952\u001b[0m\n",
      "\u001b[34m[07:57:27] src/tree/updater_prune.cc:74: tree pruning end, 1 roots, 6 extra nodes, 42 pruned nodes, max_depth=3\u001b[0m\n",
      "\u001b[34m[248]#011train-rmse:0.24471#011validation-rmse:0.310994\u001b[0m\n",
      "\u001b[34m[07:57:29] src/tree/updater_prune.cc:74: tree pruning end, 1 roots, 0 extra nodes, 54 pruned nodes, max_depth=0\u001b[0m\n",
      "\u001b[34m[249]#011train-rmse:0.244713#011validation-rmse:0.310997\u001b[0m\n",
      "\u001b[34m[07:57:32] src/tree/updater_prune.cc:74: tree pruning end, 1 roots, 12 extra nodes, 46 pruned nodes, max_depth=6\u001b[0m\n",
      "\u001b[34m[250]#011train-rmse:0.244453#011validation-rmse:0.311019\u001b[0m\n",
      "\u001b[34m[07:57:34] src/tree/updater_prune.cc:74: tree pruning end, 1 roots, 0 extra nodes, 46 pruned nodes, max_depth=0\u001b[0m\n",
      "\u001b[34m[251]#011train-rmse:0.244461#011validation-rmse:0.311026\u001b[0m\n",
      "\u001b[34m[07:57:37] src/tree/updater_prune.cc:74: tree pruning end, 1 roots, 6 extra nodes, 50 pruned nodes, max_depth=3\u001b[0m\n",
      "\u001b[34m[252]#011train-rmse:0.244382#011validation-rmse:0.311092\u001b[0m\n",
      "\u001b[34m[07:57:39] src/tree/updater_prune.cc:74: tree pruning end, 1 roots, 0 extra nodes, 38 pruned nodes, max_depth=0\u001b[0m\n",
      "\u001b[34m[253]#011train-rmse:0.244377#011validation-rmse:0.311089\u001b[0m\n",
      "\u001b[34m[07:57:42] src/tree/updater_prune.cc:74: tree pruning end, 1 roots, 8 extra nodes, 54 pruned nodes, max_depth=4\u001b[0m\n",
      "\u001b[34m[254]#011train-rmse:0.244271#011validation-rmse:0.311055\u001b[0m\n",
      "\u001b[34m[07:57:44] src/tree/updater_prune.cc:74: tree pruning end, 1 roots, 12 extra nodes, 32 pruned nodes, max_depth=6\u001b[0m\n",
      "\u001b[34m[255]#011train-rmse:0.244062#011validation-rmse:0.311151\u001b[0m\n",
      "\u001b[34m[07:57:47] src/tree/updater_prune.cc:74: tree pruning end, 1 roots, 8 extra nodes, 32 pruned nodes, max_depth=4\u001b[0m\n",
      "\u001b[34m[256]#011train-rmse:0.24394#011validation-rmse:0.311065\u001b[0m\n",
      "\u001b[34mStopping. Best iteration:\u001b[0m\n",
      "\u001b[34m[246]#011train-rmse:0.244835#011validation-rmse:0.310918\n",
      "\u001b[0m\n"
     ]
    },
    {
     "name": "stdout",
     "output_type": "stream",
     "text": [
      "Training seconds: 718\n",
      "Billable seconds: 718\n"
     ]
    }
   ],
   "source": [
    "# TODO: Create a new estimator object attached to the best training job found during hyperparameter tuning\n",
    "\n",
    "xgb_attached = None\n",
    "\n",
    "# Solution:\n",
    "\n",
    "xgb_attached = sagemaker.estimator.Estimator.attach(xgb_hyperparameter_tuner.best_training_job())"
   ]
  },
  {
   "cell_type": "markdown",
   "metadata": {},
   "source": [
    "Now that we have an estimator object attached to the correct training job, we can proceed as we normally would and create a transformer object."
   ]
  },
  {
   "cell_type": "code",
   "execution_count": 27,
   "metadata": {},
   "outputs": [
    {
     "name": "stderr",
     "output_type": "stream",
     "text": [
      "Parameter image will be renamed to image_uri in SageMaker Python SDK v2.\n"
     ]
    }
   ],
   "source": [
    "# TODO: Create a transformer object from the attached estimator. Using an instance count of 1 and an instance type of ml.m4.xlarge\n",
    "#       should be more than enough.\n",
    "\n",
    "xgb_transformer = None\n",
    "\n",
    "# Solution:\n",
    "xgb_transformer = xgb_attached.transformer(instance_count = 1, instance_type = 'ml.m4.xlarge')"
   ]
  },
  {
   "cell_type": "markdown",
   "metadata": {},
   "source": [
    "Next we actually perform the transform job. When doing so we need to make sure to specify the type of data we are sending so that it is serialized correctly in the background. In our case we are providing our model with csv data so we specify `text/csv`. Also, if the test data that we have provided is too large to process all at once then we need to specify how the data file should be split up. Since each line is a single entry in our data set we tell SageMaker that it can split the input on each line."
   ]
  },
  {
   "cell_type": "code",
   "execution_count": 28,
   "metadata": {},
   "outputs": [],
   "source": [
    "# TODO: Start the transform job. Make sure to specify the content type and the split type of the test data.\n",
    "xgb_transformer.transform(test_location, content_type='text/csv', split_type='Line')"
   ]
  },
  {
   "cell_type": "markdown",
   "metadata": {},
   "source": [
    "Currently the transform job is running but it is doing so in the background. Since we wish to wait until the transform job is done and we would like a bit of feedback we can run the `wait()` method."
   ]
  },
  {
   "cell_type": "code",
   "execution_count": 29,
   "metadata": {},
   "outputs": [
    {
     "name": "stdout",
     "output_type": "stream",
     "text": [
      "..............................\u001b[34mArguments: serve\u001b[0m\n",
      "\u001b[34m[2021-09-17 08:04:00 +0000] [1] [INFO] Starting gunicorn 19.9.0\u001b[0m\n",
      "\u001b[34m[2021-09-17 08:04:00 +0000] [1] [INFO] Listening at: http://0.0.0.0:8080 (1)\u001b[0m\n",
      "\u001b[34m[2021-09-17 08:04:00 +0000] [1] [INFO] Using worker: gevent\u001b[0m\n",
      "\u001b[34m[2021-09-17 08:04:00 +0000] [21] [INFO] Booting worker with pid: 21\u001b[0m\n",
      "\u001b[35mArguments: serve\u001b[0m\n",
      "\u001b[35m[2021-09-17 08:04:00 +0000] [1] [INFO] Starting gunicorn 19.9.0\u001b[0m\n",
      "\u001b[35m[2021-09-17 08:04:00 +0000] [1] [INFO] Listening at: http://0.0.0.0:8080 (1)\u001b[0m\n",
      "\u001b[35m[2021-09-17 08:04:00 +0000] [1] [INFO] Using worker: gevent\u001b[0m\n",
      "\u001b[35m[2021-09-17 08:04:00 +0000] [21] [INFO] Booting worker with pid: 21\u001b[0m\n",
      "\u001b[34m[2021-09-17 08:04:00 +0000] [22] [INFO] Booting worker with pid: 22\u001b[0m\n",
      "\u001b[34m/opt/amazon/lib/python3.7/site-packages/gunicorn/workers/ggevent.py:65: MonkeyPatchWarning: Monkey-patching ssl after ssl has already been imported may lead to errors, including RecursionError on Python 3.6. It may also silently lead to incorrect behaviour on Python 3.7. Please monkey-patch earlier. See https://github.com/gevent/gevent/issues/1016. Modules that had direct imports (NOT patched): ['urllib3.util.ssl_ (/opt/amazon/lib/python3.7/site-packages/urllib3/util/ssl_.py)', 'urllib3.util (/opt/amazon/lib/python3.7/site-packages/urllib3/util/__init__.py)']. \n",
      "  monkey.patch_all(subprocess=True)\u001b[0m\n",
      "\u001b[34m[2021-09-17:08:04:00:INFO] Model loaded successfully for worker : 21\u001b[0m\n",
      "\u001b[34m/opt/amazon/lib/python3.7/site-packages/gunicorn/workers/ggevent.py:65: MonkeyPatchWarning: Monkey-patching ssl after ssl has already been imported may lead to errors, including RecursionError on Python 3.6. It may also silently lead to incorrect behaviour on Python 3.7. Please monkey-patch earlier. See https://github.com/gevent/gevent/issues/1016. Modules that had direct imports (NOT patched): ['urllib3.util.ssl_ (/opt/amazon/lib/python3.7/site-packages/urllib3/util/ssl_.py)', 'urllib3.util (/opt/amazon/lib/python3.7/site-packages/urllib3/util/__init__.py)']. \n",
      "  monkey.patch_all(subprocess=True)\u001b[0m\n",
      "\u001b[34m[2021-09-17 08:04:00 +0000] [23] [INFO] Booting worker with pid: 23\u001b[0m\n",
      "\u001b[34m[2021-09-17:08:04:00:INFO] Model loaded successfully for worker : 22\u001b[0m\n",
      "\u001b[34m[2021-09-17 08:04:00 +0000] [24] [INFO] Booting worker with pid: 24\u001b[0m\n",
      "\u001b[34m/opt/amazon/lib/python3.7/site-packages/gunicorn/workers/ggevent.py:65: MonkeyPatchWarning: Monkey-patching ssl after ssl has already been imported may lead to errors, including RecursionError on Python 3.6. It may also silently lead to incorrect behaviour on Python 3.7. Please monkey-patch earlier. See https://github.com/gevent/gevent/issues/1016. Modules that had direct imports (NOT patched): ['urllib3.util.ssl_ (/opt/amazon/lib/python3.7/site-packages/urllib3/util/ssl_.py)', 'urllib3.util (/opt/amazon/lib/python3.7/site-packages/urllib3/util/__init__.py)']. \n",
      "  monkey.patch_all(subprocess=True)\u001b[0m\n",
      "\u001b[34m[2021-09-17:08:04:00:INFO] Model loaded successfully for worker : 23\u001b[0m\n",
      "\u001b[34m/opt/amazon/lib/python3.7/site-packages/gunicorn/workers/ggevent.py:65: MonkeyPatchWarning: Monkey-patching ssl after ssl has already been imported may lead to errors, including RecursionError on Python 3.6. It may also silently lead to incorrect behaviour on Python 3.7. Please monkey-patch earlier. See https://github.com/gevent/gevent/issues/1016. Modules that had direct imports (NOT patched): ['urllib3.util.ssl_ (/opt/amazon/lib/python3.7/site-packages/urllib3/util/ssl_.py)', 'urllib3.util (/opt/amazon/lib/python3.7/site-packages/urllib3/util/__init__.py)']. \n",
      "  monkey.patch_all(subprocess=True)\u001b[0m\n",
      "\u001b[34m[2021-09-17:08:04:00:INFO] Model loaded successfully for worker : 24\u001b[0m\n",
      "\u001b[35m[2021-09-17 08:04:00 +0000] [22] [INFO] Booting worker with pid: 22\u001b[0m\n",
      "\u001b[35m/opt/amazon/lib/python3.7/site-packages/gunicorn/workers/ggevent.py:65: MonkeyPatchWarning: Monkey-patching ssl after ssl has already been imported may lead to errors, including RecursionError on Python 3.6. It may also silently lead to incorrect behaviour on Python 3.7. Please monkey-patch earlier. See https://github.com/gevent/gevent/issues/1016. Modules that had direct imports (NOT patched): ['urllib3.util.ssl_ (/opt/amazon/lib/python3.7/site-packages/urllib3/util/ssl_.py)', 'urllib3.util (/opt/amazon/lib/python3.7/site-packages/urllib3/util/__init__.py)']. \n",
      "  monkey.patch_all(subprocess=True)\u001b[0m\n",
      "\u001b[35m[2021-09-17:08:04:00:INFO] Model loaded successfully for worker : 21\u001b[0m\n",
      "\u001b[35m/opt/amazon/lib/python3.7/site-packages/gunicorn/workers/ggevent.py:65: MonkeyPatchWarning: Monkey-patching ssl after ssl has already been imported may lead to errors, including RecursionError on Python 3.6. It may also silently lead to incorrect behaviour on Python 3.7. Please monkey-patch earlier. See https://github.com/gevent/gevent/issues/1016. Modules that had direct imports (NOT patched): ['urllib3.util.ssl_ (/opt/amazon/lib/python3.7/site-packages/urllib3/util/ssl_.py)', 'urllib3.util (/opt/amazon/lib/python3.7/site-packages/urllib3/util/__init__.py)']. \n",
      "  monkey.patch_all(subprocess=True)\u001b[0m\n",
      "\u001b[35m[2021-09-17 08:04:00 +0000] [23] [INFO] Booting worker with pid: 23\u001b[0m\n",
      "\u001b[35m[2021-09-17:08:04:00:INFO] Model loaded successfully for worker : 22\u001b[0m\n",
      "\u001b[35m[2021-09-17 08:04:00 +0000] [24] [INFO] Booting worker with pid: 24\u001b[0m\n",
      "\u001b[35m/opt/amazon/lib/python3.7/site-packages/gunicorn/workers/ggevent.py:65: MonkeyPatchWarning: Monkey-patching ssl after ssl has already been imported may lead to errors, including RecursionError on Python 3.6. It may also silently lead to incorrect behaviour on Python 3.7. Please monkey-patch earlier. See https://github.com/gevent/gevent/issues/1016. Modules that had direct imports (NOT patched): ['urllib3.util.ssl_ (/opt/amazon/lib/python3.7/site-packages/urllib3/util/ssl_.py)', 'urllib3.util (/opt/amazon/lib/python3.7/site-packages/urllib3/util/__init__.py)']. \n",
      "  monkey.patch_all(subprocess=True)\u001b[0m\n",
      "\u001b[35m[2021-09-17:08:04:00:INFO] Model loaded successfully for worker : 23\u001b[0m\n",
      "\u001b[35m/opt/amazon/lib/python3.7/site-packages/gunicorn/workers/ggevent.py:65: MonkeyPatchWarning: Monkey-patching ssl after ssl has already been imported may lead to errors, including RecursionError on Python 3.6. It may also silently lead to incorrect behaviour on Python 3.7. Please monkey-patch earlier. See https://github.com/gevent/gevent/issues/1016. Modules that had direct imports (NOT patched): ['urllib3.util.ssl_ (/opt/amazon/lib/python3.7/site-packages/urllib3/util/ssl_.py)', 'urllib3.util (/opt/amazon/lib/python3.7/site-packages/urllib3/util/__init__.py)']. \n",
      "  monkey.patch_all(subprocess=True)\u001b[0m\n",
      "\u001b[35m[2021-09-17:08:04:00:INFO] Model loaded successfully for worker : 24\u001b[0m\n",
      "\u001b[32m2021-09-17T08:04:03.999:[sagemaker logs]: MaxConcurrentTransforms=4, MaxPayloadInMB=6, BatchStrategy=MULTI_RECORD\u001b[0m\n",
      "\u001b[34m[2021-09-17:08:04:07:INFO] Sniff delimiter as ','\u001b[0m\n",
      "\u001b[34m[2021-09-17:08:04:07:INFO] Determined delimiter of CSV input is ','\u001b[0m\n",
      "\u001b[34m[2021-09-17:08:04:07:INFO] Sniff delimiter as ','\u001b[0m\n",
      "\u001b[34m[2021-09-17:08:04:07:INFO] Determined delimiter of CSV input is ','\u001b[0m\n",
      "\u001b[34m[2021-09-17:08:04:07:INFO] Sniff delimiter as ','\u001b[0m\n",
      "\u001b[34m[2021-09-17:08:04:07:INFO] Determined delimiter of CSV input is ','\u001b[0m\n",
      "\u001b[34m[2021-09-17:08:04:07:INFO] Sniff delimiter as ','\u001b[0m\n",
      "\u001b[34m[2021-09-17:08:04:07:INFO] Determined delimiter of CSV input is ','\u001b[0m\n",
      "\u001b[35m[2021-09-17:08:04:07:INFO] Sniff delimiter as ','\u001b[0m\n",
      "\u001b[35m[2021-09-17:08:04:07:INFO] Determined delimiter of CSV input is ','\u001b[0m\n",
      "\u001b[35m[2021-09-17:08:04:07:INFO] Sniff delimiter as ','\u001b[0m\n",
      "\u001b[35m[2021-09-17:08:04:07:INFO] Determined delimiter of CSV input is ','\u001b[0m\n",
      "\u001b[35m[2021-09-17:08:04:07:INFO] Sniff delimiter as ','\u001b[0m\n",
      "\u001b[35m[2021-09-17:08:04:07:INFO] Determined delimiter of CSV input is ','\u001b[0m\n",
      "\u001b[35m[2021-09-17:08:04:07:INFO] Sniff delimiter as ','\u001b[0m\n",
      "\u001b[35m[2021-09-17:08:04:07:INFO] Determined delimiter of CSV input is ','\u001b[0m\n",
      "\u001b[34m[2021-09-17:08:04:10:INFO] Sniff delimiter as ','\u001b[0m\n",
      "\u001b[34m[2021-09-17:08:04:10:INFO] Determined delimiter of CSV input is ','\u001b[0m\n",
      "\u001b[34m[2021-09-17:08:04:11:INFO] Sniff delimiter as ','\u001b[0m\n",
      "\u001b[34m[2021-09-17:08:04:11:INFO] Determined delimiter of CSV input is ','\u001b[0m\n",
      "\u001b[34m[2021-09-17:08:04:11:INFO] Sniff delimiter as ','\u001b[0m\n",
      "\u001b[34m[2021-09-17:08:04:11:INFO] Determined delimiter of CSV input is ','\u001b[0m\n",
      "\u001b[34m[2021-09-17:08:04:11:INFO] Sniff delimiter as ','\u001b[0m\n",
      "\u001b[34m[2021-09-17:08:04:11:INFO] Determined delimiter of CSV input is ','\u001b[0m\n",
      "\u001b[35m[2021-09-17:08:04:10:INFO] Sniff delimiter as ','\u001b[0m\n",
      "\u001b[35m[2021-09-17:08:04:10:INFO] Determined delimiter of CSV input is ','\u001b[0m\n",
      "\u001b[35m[2021-09-17:08:04:11:INFO] Sniff delimiter as ','\u001b[0m\n",
      "\u001b[35m[2021-09-17:08:04:11:INFO] Determined delimiter of CSV input is ','\u001b[0m\n",
      "\u001b[35m[2021-09-17:08:04:11:INFO] Sniff delimiter as ','\u001b[0m\n",
      "\u001b[35m[2021-09-17:08:04:11:INFO] Determined delimiter of CSV input is ','\u001b[0m\n",
      "\u001b[35m[2021-09-17:08:04:11:INFO] Sniff delimiter as ','\u001b[0m\n",
      "\u001b[35m[2021-09-17:08:04:11:INFO] Determined delimiter of CSV input is ','\u001b[0m\n"
     ]
    },
    {
     "name": "stdout",
     "output_type": "stream",
     "text": [
      "\u001b[34m[2021-09-17:08:04:18:INFO] Sniff delimiter as ','\u001b[0m\n",
      "\u001b[34m[2021-09-17:08:04:18:INFO] Determined delimiter of CSV input is ','\u001b[0m\n",
      "\u001b[35m[2021-09-17:08:04:18:INFO] Sniff delimiter as ','\u001b[0m\n",
      "\u001b[35m[2021-09-17:08:04:18:INFO] Determined delimiter of CSV input is ','\u001b[0m\n",
      "\u001b[34m[2021-09-17:08:04:18:INFO] Sniff delimiter as ','\u001b[0m\n",
      "\u001b[34m[2021-09-17:08:04:18:INFO] Determined delimiter of CSV input is ','\u001b[0m\n",
      "\u001b[34m[2021-09-17:08:04:18:INFO] Sniff delimiter as ','\u001b[0m\n",
      "\u001b[35m[2021-09-17:08:04:18:INFO] Sniff delimiter as ','\u001b[0m\n",
      "\u001b[35m[2021-09-17:08:04:18:INFO] Determined delimiter of CSV input is ','\u001b[0m\n",
      "\u001b[35m[2021-09-17:08:04:18:INFO] Sniff delimiter as ','\u001b[0m\n",
      "\u001b[34m[2021-09-17:08:04:18:INFO] Determined delimiter of CSV input is ','\u001b[0m\n",
      "\u001b[34m[2021-09-17:08:04:19:INFO] Sniff delimiter as ','\u001b[0m\n",
      "\u001b[34m[2021-09-17:08:04:19:INFO] Determined delimiter of CSV input is ','\u001b[0m\n",
      "\u001b[35m[2021-09-17:08:04:18:INFO] Determined delimiter of CSV input is ','\u001b[0m\n",
      "\u001b[35m[2021-09-17:08:04:19:INFO] Sniff delimiter as ','\u001b[0m\n",
      "\u001b[35m[2021-09-17:08:04:19:INFO] Determined delimiter of CSV input is ','\u001b[0m\n",
      "\u001b[34m[2021-09-17:08:04:22:INFO] Determined delimiter of CSV input is ','\u001b[0m\n",
      "\u001b[35m[2021-09-17:08:04:22:INFO] Determined delimiter of CSV input is ','\u001b[0m\n",
      "\u001b[34m[2021-09-17:08:04:22:INFO] Sniff delimiter as ','\u001b[0m\n",
      "\u001b[34m[2021-09-17:08:04:22:INFO] Determined delimiter of CSV input is ','\u001b[0m\n",
      "\u001b[34m[2021-09-17:08:04:22:INFO] Sniff delimiter as ','\u001b[0m\n",
      "\u001b[34m[2021-09-17:08:04:22:INFO] Determined delimiter of CSV input is ','\u001b[0m\n",
      "\u001b[35m[2021-09-17:08:04:22:INFO] Sniff delimiter as ','\u001b[0m\n",
      "\u001b[35m[2021-09-17:08:04:22:INFO] Determined delimiter of CSV input is ','\u001b[0m\n",
      "\u001b[35m[2021-09-17:08:04:22:INFO] Sniff delimiter as ','\u001b[0m\n",
      "\u001b[35m[2021-09-17:08:04:22:INFO] Determined delimiter of CSV input is ','\u001b[0m\n",
      "\u001b[34m[2021-09-17:08:04:26:INFO] Sniff delimiter as ','\u001b[0m\n",
      "\u001b[34m[2021-09-17:08:04:26:INFO] Determined delimiter of CSV input is ','\u001b[0m\n",
      "\u001b[34m[2021-09-17:08:04:26:INFO] Sniff delimiter as ','\u001b[0m\n",
      "\u001b[34m[2021-09-17:08:04:26:INFO] Determined delimiter of CSV input is ','\u001b[0m\n",
      "\u001b[35m[2021-09-17:08:04:26:INFO] Sniff delimiter as ','\u001b[0m\n",
      "\u001b[35m[2021-09-17:08:04:26:INFO] Determined delimiter of CSV input is ','\u001b[0m\n",
      "\u001b[35m[2021-09-17:08:04:26:INFO] Sniff delimiter as ','\u001b[0m\n",
      "\u001b[35m[2021-09-17:08:04:26:INFO] Determined delimiter of CSV input is ','\u001b[0m\n",
      "\u001b[34m[2021-09-17:08:04:26:INFO] Sniff delimiter as ','\u001b[0m\n",
      "\u001b[34m[2021-09-17:08:04:26:INFO] Determined delimiter of CSV input is ','\u001b[0m\n",
      "\u001b[34m[2021-09-17:08:04:26:INFO] Sniff delimiter as ','\u001b[0m\n",
      "\u001b[35m[2021-09-17:08:04:26:INFO] Sniff delimiter as ','\u001b[0m\n",
      "\u001b[35m[2021-09-17:08:04:26:INFO] Determined delimiter of CSV input is ','\u001b[0m\n",
      "\u001b[35m[2021-09-17:08:04:26:INFO] Sniff delimiter as ','\u001b[0m\n",
      "\u001b[34m[2021-09-17:08:04:26:INFO] Determined delimiter of CSV input is ','\u001b[0m\n",
      "\u001b[35m[2021-09-17:08:04:26:INFO] Determined delimiter of CSV input is ','\u001b[0m\n",
      "\u001b[34m[2021-09-17:08:04:30:INFO] Sniff delimiter as ','\u001b[0m\n",
      "\u001b[34m[2021-09-17:08:04:30:INFO] Determined delimiter of CSV input is ','\u001b[0m\n",
      "\u001b[34m[2021-09-17:08:04:30:INFO] Sniff delimiter as ','\u001b[0m\n",
      "\u001b[34m[2021-09-17:08:04:30:INFO] Determined delimiter of CSV input is ','\u001b[0m\n",
      "\u001b[34m[2021-09-17:08:04:30:INFO] Sniff delimiter as ','\u001b[0m\n",
      "\u001b[34m[2021-09-17:08:04:30:INFO] Determined delimiter of CSV input is ','\u001b[0m\n",
      "\u001b[35m[2021-09-17:08:04:30:INFO] Sniff delimiter as ','\u001b[0m\n",
      "\u001b[35m[2021-09-17:08:04:30:INFO] Determined delimiter of CSV input is ','\u001b[0m\n",
      "\u001b[35m[2021-09-17:08:04:30:INFO] Sniff delimiter as ','\u001b[0m\n",
      "\u001b[35m[2021-09-17:08:04:30:INFO] Determined delimiter of CSV input is ','\u001b[0m\n",
      "\u001b[35m[2021-09-17:08:04:30:INFO] Sniff delimiter as ','\u001b[0m\n",
      "\u001b[35m[2021-09-17:08:04:30:INFO] Determined delimiter of CSV input is ','\u001b[0m\n",
      "\u001b[34m[2021-09-17:08:04:30:INFO] Sniff delimiter as ','\u001b[0m\n",
      "\u001b[34m[2021-09-17:08:04:30:INFO] Determined delimiter of CSV input is ','\u001b[0m\n",
      "\u001b[35m[2021-09-17:08:04:30:INFO] Sniff delimiter as ','\u001b[0m\n",
      "\u001b[35m[2021-09-17:08:04:30:INFO] Determined delimiter of CSV input is ','\u001b[0m\n",
      "\u001b[34m[2021-09-17:08:04:34:INFO] Sniff delimiter as ','\u001b[0m\n",
      "\u001b[34m[2021-09-17:08:04:34:INFO] Determined delimiter of CSV input is ','\u001b[0m\n",
      "\u001b[34m[2021-09-17:08:04:34:INFO] Sniff delimiter as ','\u001b[0m\n",
      "\u001b[34m[2021-09-17:08:04:34:INFO] Determined delimiter of CSV input is ','\u001b[0m\n",
      "\u001b[34m[2021-09-17:08:04:34:INFO] Sniff delimiter as ','\u001b[0m\n",
      "\u001b[34m[2021-09-17:08:04:34:INFO] Determined delimiter of CSV input is ','\u001b[0m\n",
      "\u001b[35m[2021-09-17:08:04:34:INFO] Sniff delimiter as ','\u001b[0m\n",
      "\u001b[35m[2021-09-17:08:04:34:INFO] Determined delimiter of CSV input is ','\u001b[0m\n",
      "\u001b[35m[2021-09-17:08:04:34:INFO] Sniff delimiter as ','\u001b[0m\n",
      "\u001b[35m[2021-09-17:08:04:34:INFO] Determined delimiter of CSV input is ','\u001b[0m\n",
      "\u001b[35m[2021-09-17:08:04:34:INFO] Sniff delimiter as ','\u001b[0m\n",
      "\u001b[35m[2021-09-17:08:04:34:INFO] Determined delimiter of CSV input is ','\u001b[0m\n",
      "\u001b[34m[2021-09-17:08:04:37:INFO] Sniff delimiter as ','\u001b[0m\n",
      "\u001b[34m[2021-09-17:08:04:37:INFO] Determined delimiter of CSV input is ','\u001b[0m\n",
      "\u001b[34m[2021-09-17:08:04:37:INFO] Sniff delimiter as ','\u001b[0m\n",
      "\u001b[34m[2021-09-17:08:04:37:INFO] Determined delimiter of CSV input is ','\u001b[0m\n",
      "\u001b[34m[2021-09-17:08:04:38:INFO] Sniff delimiter as ','\u001b[0m\n",
      "\u001b[34m[2021-09-17:08:04:38:INFO] Determined delimiter of CSV input is ','\u001b[0m\n",
      "\u001b[34m[2021-09-17:08:04:38:INFO] Sniff delimiter as ','\u001b[0m\n",
      "\u001b[35m[2021-09-17:08:04:37:INFO] Sniff delimiter as ','\u001b[0m\n",
      "\u001b[35m[2021-09-17:08:04:37:INFO] Determined delimiter of CSV input is ','\u001b[0m\n",
      "\u001b[35m[2021-09-17:08:04:37:INFO] Sniff delimiter as ','\u001b[0m\n",
      "\u001b[35m[2021-09-17:08:04:37:INFO] Determined delimiter of CSV input is ','\u001b[0m\n",
      "\u001b[35m[2021-09-17:08:04:38:INFO] Sniff delimiter as ','\u001b[0m\n",
      "\u001b[35m[2021-09-17:08:04:38:INFO] Determined delimiter of CSV input is ','\u001b[0m\n",
      "\u001b[35m[2021-09-17:08:04:38:INFO] Sniff delimiter as ','\u001b[0m\n",
      "\u001b[34m[2021-09-17:08:04:38:INFO] Determined delimiter of CSV input is ','\u001b[0m\n",
      "\u001b[35m[2021-09-17:08:04:38:INFO] Determined delimiter of CSV input is ','\u001b[0m\n",
      "\u001b[34m[2021-09-17:08:04:41:INFO] Determined delimiter of CSV input is ','\u001b[0m\n",
      "\u001b[34m[2021-09-17:08:04:41:INFO] Sniff delimiter as ','\u001b[0m\n",
      "\u001b[34m[2021-09-17:08:04:41:INFO] Determined delimiter of CSV input is ','\u001b[0m\n",
      "\u001b[34m[2021-09-17:08:04:41:INFO] Sniff delimiter as ','\u001b[0m\n",
      "\u001b[34m[2021-09-17:08:04:41:INFO] Determined delimiter of CSV input is ','\u001b[0m\n",
      "\u001b[34m[2021-09-17:08:04:42:INFO] Sniff delimiter as ','\u001b[0m\n",
      "\u001b[34m[2021-09-17:08:04:42:INFO] Determined delimiter of CSV input is ','\u001b[0m\n",
      "\u001b[35m[2021-09-17:08:04:41:INFO] Determined delimiter of CSV input is ','\u001b[0m\n",
      "\u001b[35m[2021-09-17:08:04:41:INFO] Sniff delimiter as ','\u001b[0m\n",
      "\u001b[35m[2021-09-17:08:04:41:INFO] Determined delimiter of CSV input is ','\u001b[0m\n",
      "\u001b[35m[2021-09-17:08:04:41:INFO] Sniff delimiter as ','\u001b[0m\n",
      "\u001b[35m[2021-09-17:08:04:41:INFO] Determined delimiter of CSV input is ','\u001b[0m\n",
      "\u001b[35m[2021-09-17:08:04:42:INFO] Sniff delimiter as ','\u001b[0m\n",
      "\u001b[35m[2021-09-17:08:04:42:INFO] Determined delimiter of CSV input is ','\u001b[0m\n",
      "\n"
     ]
    }
   ],
   "source": [
    "xgb_transformer.wait()"
   ]
  },
  {
   "cell_type": "markdown",
   "metadata": {},
   "source": [
    "Now the transform job has executed and the result, the estimated sentiment of each review, has been saved on S3. Since we would rather work on this file locally we can perform a bit of notebook magic to copy the file to the `data_dir`."
   ]
  },
  {
   "cell_type": "code",
   "execution_count": 30,
   "metadata": {},
   "outputs": [
    {
     "name": "stdout",
     "output_type": "stream",
     "text": [
      "Completed 256.0 KiB/475.3 KiB (2.9 MiB/s) with 1 file(s) remaining\r",
      "Completed 475.3 KiB/475.3 KiB (5.1 MiB/s) with 1 file(s) remaining\r",
      "download: s3://sagemaker-us-east-1-563234729064/xgboost-210917-0732-004-c996ab06-2021-09-17-07-59-10-559/test.csv.out to ../data/xgboost/test.csv.out\r\n"
     ]
    }
   ],
   "source": [
    "!aws s3 cp --recursive $xgb_transformer.output_path $data_dir"
   ]
  },
  {
   "cell_type": "markdown",
   "metadata": {},
   "source": [
    "The last step is now to read in the output from our model, convert the output to something a little more usable, in this case we want the sentiment to be either `1` (positive) or `0` (negative), and then compare to the ground truth labels."
   ]
  },
  {
   "cell_type": "code",
   "execution_count": 31,
   "metadata": {},
   "outputs": [],
   "source": [
    "predictions = pd.read_csv(os.path.join(data_dir, 'test.csv.out'), header=None)\n",
    "predictions = [round(num) for num in predictions.squeeze().values]"
   ]
  },
  {
   "cell_type": "code",
   "execution_count": 32,
   "metadata": {},
   "outputs": [
    {
     "data": {
      "text/plain": [
       "0.86788"
      ]
     },
     "execution_count": 32,
     "metadata": {},
     "output_type": "execute_result"
    }
   ],
   "source": [
    "from sklearn.metrics import accuracy_score\n",
    "accuracy_score(test_y, predictions)"
   ]
  },
  {
   "cell_type": "markdown",
   "metadata": {},
   "source": [
    "## Optional: Clean up\n",
    "\n",
    "The default notebook instance on SageMaker doesn't have a lot of excess disk space available. As you continue to complete and execute notebooks you will eventually fill up this disk space, leading to errors which can be difficult to diagnose. Once you are completely finished using a notebook it is a good idea to remove the files that you created along the way. Of course, you can do this from the terminal or from the notebook hub if you would like. The cell below contains some commands to clean up the created files from within the notebook."
   ]
  },
  {
   "cell_type": "code",
   "execution_count": 33,
   "metadata": {},
   "outputs": [],
   "source": [
    "# First we will remove all of the files contained in the data_dir directory\n",
    "!rm $data_dir/*\n",
    "\n",
    "# And then we delete the directory itself\n",
    "!rmdir $data_dir\n",
    "\n",
    "# Similarly we will remove the files in the cache_dir directory and the directory itself\n",
    "!rm $cache_dir/*\n",
    "!rmdir $cache_dir"
   ]
  },
  {
   "cell_type": "code",
   "execution_count": null,
   "metadata": {},
   "outputs": [],
   "source": []
  }
 ],
 "metadata": {
  "kernelspec": {
   "display_name": "conda_python3",
   "language": "python",
   "name": "conda_python3"
  },
  "language_info": {
   "codemirror_mode": {
    "name": "ipython",
    "version": 3
   },
   "file_extension": ".py",
   "mimetype": "text/x-python",
   "name": "python",
   "nbconvert_exporter": "python",
   "pygments_lexer": "ipython3",
   "version": "3.6.13"
  }
 },
 "nbformat": 4,
 "nbformat_minor": 2
}
